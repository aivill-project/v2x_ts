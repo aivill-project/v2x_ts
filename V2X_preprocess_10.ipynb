{
 "cells": [
  {
   "attachments": {},
   "cell_type": "markdown",
   "metadata": {},
   "source": [
    "# V2X 데이터 정보"
   ]
  },
  {
   "cell_type": "code",
   "execution_count": 1,
   "metadata": {},
   "outputs": [],
   "source": [
    "import numpy as np\n",
    "import cv2\n",
    "import torch\n",
    "import pandas as pd\n",
    "import re\n",
    "import pickle as pkl\n",
    "import json\n",
    "import glob\n",
    "import shutil\n",
    "import os\n",
    "import json\n",
    "import pathlib as pl\n",
    "from typing import List, Tuple, Dict, Union, Optional\n",
    "from tqdm import trange, tqdm\n",
    "from glob import glob\n",
    "from collections import Counter\n",
    "from sklearn.model_selection import train_test_split\n",
    "\n",
    "from preprocessing import V2XPreprocessing\n",
    "from modules.v2x import V2XData,V2XDataLabeled\n",
    "from tsai.all import *\n",
    "from tqdm import tqdm\n",
    "from modules.RunTSAI import RunTSAI\n",
    "from sklearn.utils import shuffle\n",
    "\n",
    "data_path_8 = \"/data/NIA50/50-1/data/v2xfinal/8월\"\n",
    "data_path_8s = \"/data/NIA50/50-1/data/v2xfinal/8월세종\"\n",
    "data_path_10 = \"/data/NIA50/50-1/data/v2xfinal/9월\"\n",
    "data_path_10 = \"/data/NIA50/50-1/data/v2xfinal/10월\"\n",
    "data_path_11 = \"/data/NIA50/50-1/data/v2xfinal/11월\""
   ]
  },
  {
   "attachments": {},
   "cell_type": "markdown",
   "metadata": {},
   "source": [
    "## CSV, JSON 파일 경로 리스트 만들기\n",
    "- CSV, JSON 파일을 한 경로에 담기\n",
    "  - 8월\n",
    "  -  ㄴ CSV\n",
    "  -  ㄴ JSON\n",
    "  - 9월\n",
    "  -  ㄴ CSV\n",
    "  -  ㄴ JSON"
   ]
  },
  {
   "cell_type": "code",
   "execution_count": 2,
   "metadata": {},
   "outputs": [
    {
     "name": "stdout",
     "output_type": "stream",
     "text": [
      "csv file count: 1350000, json file count: 1350000\n"
     ]
    }
   ],
   "source": [
    "# 10월csv파일과 json파일을 각각 리스트로 가져옴\n",
    "csv_files10, json_files10 = V2XPreprocessing.get_csv_data(data_path_10 + \"/CSV\"), \\\n",
    "                            V2XPreprocessing.get_json_data(data_path_10 + \"/JSON\")\n",
    "print(f\"csv file count: {len(csv_files10)}, json file count: {len(json_files10)}\")"
   ]
  },
  {
   "cell_type": "code",
   "execution_count": 3,
   "metadata": {},
   "outputs": [],
   "source": [
    "# csv파일과 json파일 리스트를 pickle로 저장\n",
    "with open(\"pickles/10월/CSV10.pkl\", \"wb\") as f:\n",
    "    pkl.dump(csv_files10, f)\n",
    "with open(\"pickles/10월/JSON10.pkl\", \"wb\") as f:\n",
    "    pkl.dump(json_files10, f)"
   ]
  },
  {
   "cell_type": "code",
   "execution_count": 2,
   "metadata": {},
   "outputs": [],
   "source": [
    "# csv파일과 json파일 각 리스트를 pickle로 가져옴\n",
    "with open(\"pickles/10월/CSV10.pkl\", \"rb\") as f:\n",
    "    csv_files10 = pkl.load(f)\n",
    "with open(\"pickles/10월/JSON10.pkl\", \"rb\") as f:\n",
    "    json_files10 = pkl.load(f)"
   ]
  },
  {
   "cell_type": "code",
   "execution_count": 9,
   "metadata": {},
   "outputs": [
    {
     "name": "stdout",
     "output_type": "stream",
     "text": [
      "/data/NIA50/50-1/data/v2xfinal/10월/CSV/221004/C/A/FFE81185/V_221004_C_A_FFE81185_000030.csv error: No columns to parse from file\n"
     ]
    }
   ],
   "source": [
    "no_error, y_error = [], []\n",
    "for csv in csv_files10:\n",
    "    try:\n",
    "        pd.read_csv(csv)\n",
    "        no_error.append(csv)\n",
    "    except Exception as e:\n",
    "        print(f\"{csv} error: {e}\")\n",
    "        y_error.append(csv)\n",
    "    "
   ]
  },
  {
   "cell_type": "code",
   "execution_count": null,
   "metadata": {},
   "outputs": [],
   "source": [
    "# CSV파일 concat, pickle로 저장\n",
    "try:\n",
    "    df10csv = [pd.read_csv(f) for f in tqdm(csv_files10, desc=\"Reading csv files\")]\n",
    "except pd.errors.EmptyDataError as e:\n",
    "    print(f\"EmptyDataError: {e}\")\n",
    "    print(f\"csv file: {f}\")\n",
    "\n",
    "df10csv = pd.concat(df10csv, ignore_index=True)\n",
    "with open(\"pickles/10월/df10csv.pkl\", \"wb\") as f:\n",
    "    pkl.dump(df10csv, f)"
   ]
  },
  {
   "cell_type": "code",
   "execution_count": 16,
   "metadata": {},
   "outputs": [],
   "source": [
    "# CSV파일 concat pickle로 가져옴\n",
    "with open(\"pickles/10월/df10csv.pkl\", \"rb\") as f:\n",
    "    df10csv = pkl.load(f)"
   ]
  },
  {
   "cell_type": "code",
   "execution_count": 17,
   "metadata": {},
   "outputs": [
    {
     "data": {
      "text/html": [
       "<div>\n",
       "<style scoped>\n",
       "    .dataframe tbody tr th:only-of-type {\n",
       "        vertical-align: middle;\n",
       "    }\n",
       "\n",
       "    .dataframe tbody tr th {\n",
       "        vertical-align: top;\n",
       "    }\n",
       "\n",
       "    .dataframe thead th {\n",
       "        text-align: right;\n",
       "    }\n",
       "</style>\n",
       "<table border=\"1\" class=\"dataframe\">\n",
       "  <thead>\n",
       "    <tr style=\"text-align: right;\">\n",
       "      <th></th>\n",
       "      <th>ISSUE_DATE</th>\n",
       "      <th>VEHICLE_ID</th>\n",
       "      <th>VEHICLE_CLASS</th>\n",
       "      <th>LONGITUDE</th>\n",
       "      <th>LATITUDE</th>\n",
       "      <th>HEADING</th>\n",
       "      <th>SPEED</th>\n",
       "      <th>BRAKE_STATUS</th>\n",
       "      <th>ACC_SEC</th>\n",
       "      <th>VEHICLE_TYPE</th>\n",
       "    </tr>\n",
       "  </thead>\n",
       "  <tbody>\n",
       "    <tr>\n",
       "      <th>0</th>\n",
       "      <td>20221001130540</td>\n",
       "      <td>FFE809A6</td>\n",
       "      <td>9228</td>\n",
       "      <td>126.908813</td>\n",
       "      <td>35.164802</td>\n",
       "      <td>100</td>\n",
       "      <td>0</td>\n",
       "      <td>80</td>\n",
       "      <td>0</td>\n",
       "      <td>bus</td>\n",
       "    </tr>\n",
       "    <tr>\n",
       "      <th>1</th>\n",
       "      <td>20221001130541</td>\n",
       "      <td>FFE809A6</td>\n",
       "      <td>9228</td>\n",
       "      <td>126.908813</td>\n",
       "      <td>35.164802</td>\n",
       "      <td>100</td>\n",
       "      <td>0</td>\n",
       "      <td>80</td>\n",
       "      <td>0</td>\n",
       "      <td>bus</td>\n",
       "    </tr>\n",
       "    <tr>\n",
       "      <th>2</th>\n",
       "      <td>20221001130542</td>\n",
       "      <td>FFE809A6</td>\n",
       "      <td>9228</td>\n",
       "      <td>126.908813</td>\n",
       "      <td>35.164802</td>\n",
       "      <td>100</td>\n",
       "      <td>0</td>\n",
       "      <td>80</td>\n",
       "      <td>0</td>\n",
       "      <td>bus</td>\n",
       "    </tr>\n",
       "    <tr>\n",
       "      <th>3</th>\n",
       "      <td>20221001130543</td>\n",
       "      <td>FFE809A6</td>\n",
       "      <td>9228</td>\n",
       "      <td>126.908813</td>\n",
       "      <td>35.164802</td>\n",
       "      <td>100</td>\n",
       "      <td>0</td>\n",
       "      <td>80</td>\n",
       "      <td>0</td>\n",
       "      <td>bus</td>\n",
       "    </tr>\n",
       "    <tr>\n",
       "      <th>4</th>\n",
       "      <td>20221001130544</td>\n",
       "      <td>FFE809A6</td>\n",
       "      <td>9228</td>\n",
       "      <td>126.908812</td>\n",
       "      <td>35.164802</td>\n",
       "      <td>100</td>\n",
       "      <td>0</td>\n",
       "      <td>80</td>\n",
       "      <td>0</td>\n",
       "      <td>bus</td>\n",
       "    </tr>\n",
       "  </tbody>\n",
       "</table>\n",
       "</div>"
      ],
      "text/plain": [
       "       ISSUE_DATE VEHICLE_ID  VEHICLE_CLASS   LONGITUDE   LATITUDE  HEADING  \\\n",
       "0  20221001130540   FFE809A6           9228  126.908813  35.164802      100   \n",
       "1  20221001130541   FFE809A6           9228  126.908813  35.164802      100   \n",
       "2  20221001130542   FFE809A6           9228  126.908813  35.164802      100   \n",
       "3  20221001130543   FFE809A6           9228  126.908813  35.164802      100   \n",
       "4  20221001130544   FFE809A6           9228  126.908812  35.164802      100   \n",
       "\n",
       "   SPEED  BRAKE_STATUS  ACC_SEC VEHICLE_TYPE  \n",
       "0      0            80        0          bus  \n",
       "1      0            80        0          bus  \n",
       "2      0            80        0          bus  \n",
       "3      0            80        0          bus  \n",
       "4      0            80        0          bus  "
      ]
     },
     "execution_count": 17,
     "metadata": {},
     "output_type": "execute_result"
    }
   ],
   "source": [
    "df10csv.head()"
   ]
  },
  {
   "cell_type": "code",
   "execution_count": 19,
   "metadata": {},
   "outputs": [
    {
     "name": "stdout",
     "output_type": "stream",
     "text": [
      "ISSUE_DATE       0\n",
      "VEHICLE_ID       0\n",
      "VEHICLE_CLASS    0\n",
      "LONGITUDE        0\n",
      "LATITUDE         0\n",
      "HEADING          0\n",
      "SPEED            0\n",
      "BRAKE_STATUS     0\n",
      "ACC_SEC          0\n",
      "VEHICLE_TYPE     0\n",
      "dtype: int64\n"
     ]
    },
    {
     "data": {
      "text/plain": [
       "(13500000, 10)"
      ]
     },
     "execution_count": 19,
     "metadata": {},
     "output_type": "execute_result"
    }
   ],
   "source": [
    "print(df10csv.isna().sum())\n",
    "# NaN값 제거 후 NaN값이 있는지 확인\n",
    "df10csv = df10csv.dropna()\n",
    "# counts rows if there's NaN value\n",
    "# df10csv.isna().sum()\n",
    "\n",
    "df10csv.shape"
   ]
  },
  {
   "cell_type": "code",
   "execution_count": 20,
   "metadata": {},
   "outputs": [
    {
     "data": {
      "text/html": [
       "<div>\n",
       "<style scoped>\n",
       "    .dataframe tbody tr th:only-of-type {\n",
       "        vertical-align: middle;\n",
       "    }\n",
       "\n",
       "    .dataframe tbody tr th {\n",
       "        vertical-align: top;\n",
       "    }\n",
       "\n",
       "    .dataframe thead th {\n",
       "        text-align: right;\n",
       "    }\n",
       "</style>\n",
       "<table border=\"1\" class=\"dataframe\">\n",
       "  <thead>\n",
       "    <tr style=\"text-align: right;\">\n",
       "      <th></th>\n",
       "      <th>ISSUE_DATE</th>\n",
       "      <th>VEHICLE_ID</th>\n",
       "      <th>VEHICLE_CLASS</th>\n",
       "      <th>LONGITUDE</th>\n",
       "      <th>LATITUDE</th>\n",
       "      <th>HEADING</th>\n",
       "      <th>SPEED</th>\n",
       "      <th>BRAKE_STATUS</th>\n",
       "      <th>ACC_SEC</th>\n",
       "      <th>VEHICLE_TYPE</th>\n",
       "    </tr>\n",
       "  </thead>\n",
       "  <tbody>\n",
       "    <tr>\n",
       "      <th>0</th>\n",
       "      <td>20221001130540</td>\n",
       "      <td>FFE809A6</td>\n",
       "      <td>9228</td>\n",
       "      <td>126.908813</td>\n",
       "      <td>35.164802</td>\n",
       "      <td>100</td>\n",
       "      <td>0</td>\n",
       "      <td>80</td>\n",
       "      <td>0</td>\n",
       "      <td>bus</td>\n",
       "    </tr>\n",
       "    <tr>\n",
       "      <th>1</th>\n",
       "      <td>20221001130541</td>\n",
       "      <td>FFE809A6</td>\n",
       "      <td>9228</td>\n",
       "      <td>126.908813</td>\n",
       "      <td>35.164802</td>\n",
       "      <td>100</td>\n",
       "      <td>0</td>\n",
       "      <td>80</td>\n",
       "      <td>0</td>\n",
       "      <td>bus</td>\n",
       "    </tr>\n",
       "    <tr>\n",
       "      <th>2</th>\n",
       "      <td>20221001130542</td>\n",
       "      <td>FFE809A6</td>\n",
       "      <td>9228</td>\n",
       "      <td>126.908813</td>\n",
       "      <td>35.164802</td>\n",
       "      <td>100</td>\n",
       "      <td>0</td>\n",
       "      <td>80</td>\n",
       "      <td>0</td>\n",
       "      <td>bus</td>\n",
       "    </tr>\n",
       "    <tr>\n",
       "      <th>3</th>\n",
       "      <td>20221001130543</td>\n",
       "      <td>FFE809A6</td>\n",
       "      <td>9228</td>\n",
       "      <td>126.908813</td>\n",
       "      <td>35.164802</td>\n",
       "      <td>100</td>\n",
       "      <td>0</td>\n",
       "      <td>80</td>\n",
       "      <td>0</td>\n",
       "      <td>bus</td>\n",
       "    </tr>\n",
       "    <tr>\n",
       "      <th>4</th>\n",
       "      <td>20221001130544</td>\n",
       "      <td>FFE809A6</td>\n",
       "      <td>9228</td>\n",
       "      <td>126.908812</td>\n",
       "      <td>35.164802</td>\n",
       "      <td>100</td>\n",
       "      <td>0</td>\n",
       "      <td>80</td>\n",
       "      <td>0</td>\n",
       "      <td>bus</td>\n",
       "    </tr>\n",
       "  </tbody>\n",
       "</table>\n",
       "</div>"
      ],
      "text/plain": [
       "       ISSUE_DATE VEHICLE_ID  VEHICLE_CLASS   LONGITUDE   LATITUDE  HEADING  \\\n",
       "0  20221001130540   FFE809A6           9228  126.908813  35.164802      100   \n",
       "1  20221001130541   FFE809A6           9228  126.908813  35.164802      100   \n",
       "2  20221001130542   FFE809A6           9228  126.908813  35.164802      100   \n",
       "3  20221001130543   FFE809A6           9228  126.908813  35.164802      100   \n",
       "4  20221001130544   FFE809A6           9228  126.908812  35.164802      100   \n",
       "\n",
       "   SPEED  BRAKE_STATUS  ACC_SEC VEHICLE_TYPE  \n",
       "0      0            80        0          bus  \n",
       "1      0            80        0          bus  \n",
       "2      0            80        0          bus  \n",
       "3      0            80        0          bus  \n",
       "4      0            80        0          bus  "
      ]
     },
     "execution_count": 20,
     "metadata": {},
     "output_type": "execute_result"
    }
   ],
   "source": [
    "df10csv.head()"
   ]
  },
  {
   "cell_type": "code",
   "execution_count": 27,
   "metadata": {},
   "outputs": [
    {
     "name": "stdout",
     "output_type": "stream",
     "text": [
      "VEHICLE_CLASS: 0\n",
      "LONGITUDE: 0\n",
      "LATITUDE: 0\n",
      "HEADING: 0\n",
      "SPEED: 0\n",
      "BRAKE_STATUS: 0\n",
      "ACC_SEC: 0\n"
     ]
    }
   ],
   "source": [
    "# int or float type이 아닌 값이 있는지 확인\n",
    "for col in df10csv.columns:\n",
    "    if col in [\"ISSUE_DATE\"]:\n",
    "        df10csv.drop(col, axis=1, inplace=True)\n",
    "        continue\n",
    "    if col in [\"VEHICLE_ID\", \"VEHICLE_TYPE\"]:\n",
    "        continue\n",
    "    # print if value is not float or int\n",
    "    print(f\"{col}: {df10csv[col].apply(lambda x: type(x) not in [float, int]).sum()}\")"
   ]
  },
  {
   "cell_type": "code",
   "execution_count": 22,
   "metadata": {},
   "outputs": [],
   "source": [
    "# exclude [\"ISSUE_DATE\"] column, values to int on [\"VEHICLE_CLASS\", \"HEADING\"], str on [\"VEHICLE_ID\", \"VEHICLE_TYPE\"], float on others\n",
    "\n",
    "for col in df10csv.columns:\n",
    "    if col in [\"VEHICLE_CLASS\", \"HEADING\"]:\n",
    "        df10csv[col] = df10csv[col].astype(int)\n",
    "    elif col in [\"VEHICLE_ID\", \"VEHICLE_TYPE\"]:\n",
    "        df10csv[col] = df10csv[col].astype(str)\n",
    "    else:\n",
    "        df10csv[col] = df10csv[col].astype(float)"
   ]
  },
  {
   "cell_type": "code",
   "execution_count": 23,
   "metadata": {},
   "outputs": [
    {
     "name": "stdout",
     "output_type": "stream",
     "text": [
      "VEHICLE_ID: FFE80CCB    20400\n",
      "FFE80A16    20200\n",
      "FFE80DFE    18600\n",
      "FFE80D0E    17600\n",
      "FFE80AE0    16800\n",
      "            ...  \n",
      "FFE81035      200\n",
      "FFE80FA7      200\n",
      "FFE8113F      200\n",
      "FFE811E6      200\n",
      "FFE80E4D      200\n",
      "Name: VEHICLE_ID, Length: 1657, dtype: int64\n",
      "VEHICLE_ID unique: (1657,)\n",
      "\n",
      "VEHICLE_CLASS: 9228    10204600\n",
      "9220     2971200\n",
      "9741      114400\n",
      "9736       91800\n",
      "9230       84200\n",
      "9240       25600\n",
      "9734        8000\n",
      "9227         200\n",
      "Name: VEHICLE_CLASS, dtype: int64\n",
      "VEHICLE_CLASS unique: (8,)\n",
      "\n",
      "VEHICLE_TYPE: bus         10203732\n",
      "car          2970852\n",
      "special       323965\n",
      "none            1251\n",
      "axleCnt2         200\n",
      "Name: VEHICLE_TYPE, dtype: int64\n",
      "VEHICLE_TYPE unique: (5,)\n",
      "\n"
     ]
    }
   ],
   "source": [
    "# value counts of VEHICLE_ID VEHICLE_CLASS VEHICLE_TYPE\n",
    "for col in df10csv.columns:\n",
    "    if col in [\"VEHICLE_ID\", \"VEHICLE_CLASS\", \"VEHICLE_TYPE\"]:\n",
    "        print(f\"{col}: {df10csv[col].value_counts()}\")\n",
    "        print(f\"{col} unique: {df10csv[col].unique().shape}\", end=\"\\n\\n\")"
   ]
  },
  {
   "cell_type": "code",
   "execution_count": 24,
   "metadata": {},
   "outputs": [
    {
     "name": "stdout",
     "output_type": "stream",
     "text": [
      "[  10   10   10 ... 1656 1656 1656]\n",
      "[2 2 2 ... 2 2 2]\n",
      "[1 1 1 ... 1 1 1]\n"
     ]
    }
   ],
   "source": [
    "# categorize [\"VEHICLE_ID\", \"VEHICLE_CLASS\", \"VEHICLE_TYPE\"] columns\n",
    "from sklearn.preprocessing import LabelEncoder\n",
    "\n",
    "for col in df10csv.columns:\n",
    "    if col in [\"VEHICLE_ID\", \"VEHICLE_CLASS\", \"VEHICLE_TYPE\"]:\n",
    "        encoder = LabelEncoder()\n",
    "        encoder.fit(df10csv[col])\n",
    "        categorized_array = encoder.transform(df10csv[col])\n",
    "        print(categorized_array)\n",
    "        df10csv[col] = categorized_array"
   ]
  },
  {
   "cell_type": "code",
   "execution_count": 28,
   "metadata": {},
   "outputs": [
    {
     "data": {
      "text/html": [
       "<div>\n",
       "<style scoped>\n",
       "    .dataframe tbody tr th:only-of-type {\n",
       "        vertical-align: middle;\n",
       "    }\n",
       "\n",
       "    .dataframe tbody tr th {\n",
       "        vertical-align: top;\n",
       "    }\n",
       "\n",
       "    .dataframe thead th {\n",
       "        text-align: right;\n",
       "    }\n",
       "</style>\n",
       "<table border=\"1\" class=\"dataframe\">\n",
       "  <thead>\n",
       "    <tr style=\"text-align: right;\">\n",
       "      <th></th>\n",
       "      <th>VEHICLE_ID</th>\n",
       "      <th>VEHICLE_CLASS</th>\n",
       "      <th>LONGITUDE</th>\n",
       "      <th>LATITUDE</th>\n",
       "      <th>HEADING</th>\n",
       "      <th>SPEED</th>\n",
       "      <th>BRAKE_STATUS</th>\n",
       "      <th>ACC_SEC</th>\n",
       "      <th>VEHICLE_TYPE</th>\n",
       "    </tr>\n",
       "  </thead>\n",
       "  <tbody>\n",
       "    <tr>\n",
       "      <th>0</th>\n",
       "      <td>10</td>\n",
       "      <td>2</td>\n",
       "      <td>126.908813</td>\n",
       "      <td>35.164802</td>\n",
       "      <td>100</td>\n",
       "      <td>0.0</td>\n",
       "      <td>80.0</td>\n",
       "      <td>0.0</td>\n",
       "      <td>1</td>\n",
       "    </tr>\n",
       "    <tr>\n",
       "      <th>1</th>\n",
       "      <td>10</td>\n",
       "      <td>2</td>\n",
       "      <td>126.908813</td>\n",
       "      <td>35.164802</td>\n",
       "      <td>100</td>\n",
       "      <td>0.0</td>\n",
       "      <td>80.0</td>\n",
       "      <td>0.0</td>\n",
       "      <td>1</td>\n",
       "    </tr>\n",
       "    <tr>\n",
       "      <th>2</th>\n",
       "      <td>10</td>\n",
       "      <td>2</td>\n",
       "      <td>126.908813</td>\n",
       "      <td>35.164802</td>\n",
       "      <td>100</td>\n",
       "      <td>0.0</td>\n",
       "      <td>80.0</td>\n",
       "      <td>0.0</td>\n",
       "      <td>1</td>\n",
       "    </tr>\n",
       "    <tr>\n",
       "      <th>3</th>\n",
       "      <td>10</td>\n",
       "      <td>2</td>\n",
       "      <td>126.908813</td>\n",
       "      <td>35.164802</td>\n",
       "      <td>100</td>\n",
       "      <td>0.0</td>\n",
       "      <td>80.0</td>\n",
       "      <td>0.0</td>\n",
       "      <td>1</td>\n",
       "    </tr>\n",
       "    <tr>\n",
       "      <th>4</th>\n",
       "      <td>10</td>\n",
       "      <td>2</td>\n",
       "      <td>126.908812</td>\n",
       "      <td>35.164802</td>\n",
       "      <td>100</td>\n",
       "      <td>0.0</td>\n",
       "      <td>80.0</td>\n",
       "      <td>0.0</td>\n",
       "      <td>1</td>\n",
       "    </tr>\n",
       "    <tr>\n",
       "      <th>...</th>\n",
       "      <td>...</td>\n",
       "      <td>...</td>\n",
       "      <td>...</td>\n",
       "      <td>...</td>\n",
       "      <td>...</td>\n",
       "      <td>...</td>\n",
       "      <td>...</td>\n",
       "      <td>...</td>\n",
       "      <td>...</td>\n",
       "    </tr>\n",
       "    <tr>\n",
       "      <th>13499995</th>\n",
       "      <td>1656</td>\n",
       "      <td>2</td>\n",
       "      <td>126.923304</td>\n",
       "      <td>35.177653</td>\n",
       "      <td>286</td>\n",
       "      <td>19.0</td>\n",
       "      <td>78.0</td>\n",
       "      <td>0.0</td>\n",
       "      <td>1</td>\n",
       "    </tr>\n",
       "    <tr>\n",
       "      <th>13499996</th>\n",
       "      <td>1656</td>\n",
       "      <td>2</td>\n",
       "      <td>126.923247</td>\n",
       "      <td>35.177668</td>\n",
       "      <td>286</td>\n",
       "      <td>20.0</td>\n",
       "      <td>78.0</td>\n",
       "      <td>28.0</td>\n",
       "      <td>1</td>\n",
       "    </tr>\n",
       "    <tr>\n",
       "      <th>13499997</th>\n",
       "      <td>1656</td>\n",
       "      <td>2</td>\n",
       "      <td>126.923190</td>\n",
       "      <td>35.177683</td>\n",
       "      <td>288</td>\n",
       "      <td>19.0</td>\n",
       "      <td>78.0</td>\n",
       "      <td>0.0</td>\n",
       "      <td>1</td>\n",
       "    </tr>\n",
       "    <tr>\n",
       "      <th>13499998</th>\n",
       "      <td>1656</td>\n",
       "      <td>2</td>\n",
       "      <td>126.923133</td>\n",
       "      <td>35.177698</td>\n",
       "      <td>287</td>\n",
       "      <td>19.0</td>\n",
       "      <td>78.0</td>\n",
       "      <td>0.0</td>\n",
       "      <td>1</td>\n",
       "    </tr>\n",
       "    <tr>\n",
       "      <th>13499999</th>\n",
       "      <td>1656</td>\n",
       "      <td>2</td>\n",
       "      <td>126.923076</td>\n",
       "      <td>35.177714</td>\n",
       "      <td>288</td>\n",
       "      <td>20.0</td>\n",
       "      <td>78.0</td>\n",
       "      <td>0.0</td>\n",
       "      <td>1</td>\n",
       "    </tr>\n",
       "  </tbody>\n",
       "</table>\n",
       "<p>13500000 rows × 9 columns</p>\n",
       "</div>"
      ],
      "text/plain": [
       "          VEHICLE_ID  VEHICLE_CLASS   LONGITUDE   LATITUDE  HEADING  SPEED  \\\n",
       "0                 10              2  126.908813  35.164802      100    0.0   \n",
       "1                 10              2  126.908813  35.164802      100    0.0   \n",
       "2                 10              2  126.908813  35.164802      100    0.0   \n",
       "3                 10              2  126.908813  35.164802      100    0.0   \n",
       "4                 10              2  126.908812  35.164802      100    0.0   \n",
       "...              ...            ...         ...        ...      ...    ...   \n",
       "13499995        1656              2  126.923304  35.177653      286   19.0   \n",
       "13499996        1656              2  126.923247  35.177668      286   20.0   \n",
       "13499997        1656              2  126.923190  35.177683      288   19.0   \n",
       "13499998        1656              2  126.923133  35.177698      287   19.0   \n",
       "13499999        1656              2  126.923076  35.177714      288   20.0   \n",
       "\n",
       "          BRAKE_STATUS  ACC_SEC  VEHICLE_TYPE  \n",
       "0                 80.0      0.0             1  \n",
       "1                 80.0      0.0             1  \n",
       "2                 80.0      0.0             1  \n",
       "3                 80.0      0.0             1  \n",
       "4                 80.0      0.0             1  \n",
       "...                ...      ...           ...  \n",
       "13499995          78.0      0.0             1  \n",
       "13499996          78.0     28.0             1  \n",
       "13499997          78.0      0.0             1  \n",
       "13499998          78.0      0.0             1  \n",
       "13499999          78.0      0.0             1  \n",
       "\n",
       "[13500000 rows x 9 columns]"
      ]
     },
     "execution_count": 28,
     "metadata": {},
     "output_type": "execute_result"
    }
   ],
   "source": [
    "# index reset\n",
    "df10csv.reset_index(drop=True, inplace=True)\n",
    "df10csv"
   ]
  },
  {
   "attachments": {},
   "cell_type": "markdown",
   "metadata": {},
   "source": [
    "# Standarization"
   ]
  },
  {
   "cell_type": "code",
   "execution_count": 29,
   "metadata": {},
   "outputs": [
    {
     "data": {
      "text/html": [
       "<div>\n",
       "<style scoped>\n",
       "    .dataframe tbody tr th:only-of-type {\n",
       "        vertical-align: middle;\n",
       "    }\n",
       "\n",
       "    .dataframe tbody tr th {\n",
       "        vertical-align: top;\n",
       "    }\n",
       "\n",
       "    .dataframe thead th {\n",
       "        text-align: right;\n",
       "    }\n",
       "</style>\n",
       "<table border=\"1\" class=\"dataframe\">\n",
       "  <thead>\n",
       "    <tr style=\"text-align: right;\">\n",
       "      <th></th>\n",
       "      <th>VEHICLE_ID</th>\n",
       "      <th>VEHICLE_CLASS</th>\n",
       "      <th>LONGITUDE</th>\n",
       "      <th>LATITUDE</th>\n",
       "      <th>HEADING</th>\n",
       "      <th>SPEED</th>\n",
       "      <th>BRAKE_STATUS</th>\n",
       "      <th>ACC_SEC</th>\n",
       "      <th>VEHICLE_TYPE</th>\n",
       "    </tr>\n",
       "  </thead>\n",
       "  <tbody>\n",
       "    <tr>\n",
       "      <th>0</th>\n",
       "      <td>-1.550605</td>\n",
       "      <td>0.343457</td>\n",
       "      <td>0.048559</td>\n",
       "      <td>0.015181</td>\n",
       "      <td>-0.618204</td>\n",
       "      <td>-0.817212</td>\n",
       "      <td>1.127367</td>\n",
       "      <td>-0.002755</td>\n",
       "      <td>-0.493227</td>\n",
       "    </tr>\n",
       "    <tr>\n",
       "      <th>1</th>\n",
       "      <td>-1.550605</td>\n",
       "      <td>0.343457</td>\n",
       "      <td>0.048559</td>\n",
       "      <td>0.015181</td>\n",
       "      <td>-0.618204</td>\n",
       "      <td>-0.817212</td>\n",
       "      <td>1.127367</td>\n",
       "      <td>-0.002755</td>\n",
       "      <td>-0.493227</td>\n",
       "    </tr>\n",
       "    <tr>\n",
       "      <th>2</th>\n",
       "      <td>-1.550605</td>\n",
       "      <td>0.343457</td>\n",
       "      <td>0.048559</td>\n",
       "      <td>0.015181</td>\n",
       "      <td>-0.618204</td>\n",
       "      <td>-0.817212</td>\n",
       "      <td>1.127367</td>\n",
       "      <td>-0.002755</td>\n",
       "      <td>-0.493227</td>\n",
       "    </tr>\n",
       "    <tr>\n",
       "      <th>3</th>\n",
       "      <td>-1.550605</td>\n",
       "      <td>0.343457</td>\n",
       "      <td>0.048558</td>\n",
       "      <td>0.015179</td>\n",
       "      <td>-0.618204</td>\n",
       "      <td>-0.817212</td>\n",
       "      <td>1.127367</td>\n",
       "      <td>-0.002755</td>\n",
       "      <td>-0.493227</td>\n",
       "    </tr>\n",
       "    <tr>\n",
       "      <th>4</th>\n",
       "      <td>-1.550605</td>\n",
       "      <td>0.343457</td>\n",
       "      <td>0.048558</td>\n",
       "      <td>0.015179</td>\n",
       "      <td>-0.618204</td>\n",
       "      <td>-0.817212</td>\n",
       "      <td>1.127367</td>\n",
       "      <td>-0.002755</td>\n",
       "      <td>-0.493227</td>\n",
       "    </tr>\n",
       "    <tr>\n",
       "      <th>...</th>\n",
       "      <td>...</td>\n",
       "      <td>...</td>\n",
       "      <td>...</td>\n",
       "      <td>...</td>\n",
       "      <td>...</td>\n",
       "      <td>...</td>\n",
       "      <td>...</td>\n",
       "      <td>...</td>\n",
       "      <td>...</td>\n",
       "    </tr>\n",
       "    <tr>\n",
       "      <th>13499995</th>\n",
       "      <td>2.127606</td>\n",
       "      <td>0.343457</td>\n",
       "      <td>0.065006</td>\n",
       "      <td>0.117304</td>\n",
       "      <td>1.087438</td>\n",
       "      <td>0.154325</td>\n",
       "      <td>1.076380</td>\n",
       "      <td>-0.002755</td>\n",
       "      <td>-0.493227</td>\n",
       "    </tr>\n",
       "    <tr>\n",
       "      <th>13499996</th>\n",
       "      <td>2.127606</td>\n",
       "      <td>0.343457</td>\n",
       "      <td>0.064941</td>\n",
       "      <td>0.117426</td>\n",
       "      <td>1.087438</td>\n",
       "      <td>0.205458</td>\n",
       "      <td>1.076380</td>\n",
       "      <td>0.555061</td>\n",
       "      <td>-0.493227</td>\n",
       "    </tr>\n",
       "    <tr>\n",
       "      <th>13499997</th>\n",
       "      <td>2.127606</td>\n",
       "      <td>0.343457</td>\n",
       "      <td>0.064876</td>\n",
       "      <td>0.117546</td>\n",
       "      <td>1.105778</td>\n",
       "      <td>0.154325</td>\n",
       "      <td>1.076380</td>\n",
       "      <td>-0.002755</td>\n",
       "      <td>-0.493227</td>\n",
       "    </tr>\n",
       "    <tr>\n",
       "      <th>13499998</th>\n",
       "      <td>2.127606</td>\n",
       "      <td>0.343457</td>\n",
       "      <td>0.064812</td>\n",
       "      <td>0.117665</td>\n",
       "      <td>1.096608</td>\n",
       "      <td>0.154325</td>\n",
       "      <td>1.076380</td>\n",
       "      <td>-0.002755</td>\n",
       "      <td>-0.493227</td>\n",
       "    </tr>\n",
       "    <tr>\n",
       "      <th>13499999</th>\n",
       "      <td>2.127606</td>\n",
       "      <td>0.343457</td>\n",
       "      <td>0.064747</td>\n",
       "      <td>0.117787</td>\n",
       "      <td>1.105778</td>\n",
       "      <td>0.205458</td>\n",
       "      <td>1.076380</td>\n",
       "      <td>-0.002755</td>\n",
       "      <td>-0.493227</td>\n",
       "    </tr>\n",
       "  </tbody>\n",
       "</table>\n",
       "<p>13500000 rows × 9 columns</p>\n",
       "</div>"
      ],
      "text/plain": [
       "          VEHICLE_ID  VEHICLE_CLASS  LONGITUDE  LATITUDE   HEADING     SPEED  \\\n",
       "0          -1.550605       0.343457   0.048559  0.015181 -0.618204 -0.817212   \n",
       "1          -1.550605       0.343457   0.048559  0.015181 -0.618204 -0.817212   \n",
       "2          -1.550605       0.343457   0.048559  0.015181 -0.618204 -0.817212   \n",
       "3          -1.550605       0.343457   0.048558  0.015179 -0.618204 -0.817212   \n",
       "4          -1.550605       0.343457   0.048558  0.015179 -0.618204 -0.817212   \n",
       "...              ...            ...        ...       ...       ...       ...   \n",
       "13499995    2.127606       0.343457   0.065006  0.117304  1.087438  0.154325   \n",
       "13499996    2.127606       0.343457   0.064941  0.117426  1.087438  0.205458   \n",
       "13499997    2.127606       0.343457   0.064876  0.117546  1.105778  0.154325   \n",
       "13499998    2.127606       0.343457   0.064812  0.117665  1.096608  0.154325   \n",
       "13499999    2.127606       0.343457   0.064747  0.117787  1.105778  0.205458   \n",
       "\n",
       "          BRAKE_STATUS   ACC_SEC  VEHICLE_TYPE  \n",
       "0             1.127367 -0.002755     -0.493227  \n",
       "1             1.127367 -0.002755     -0.493227  \n",
       "2             1.127367 -0.002755     -0.493227  \n",
       "3             1.127367 -0.002755     -0.493227  \n",
       "4             1.127367 -0.002755     -0.493227  \n",
       "...                ...       ...           ...  \n",
       "13499995      1.076380 -0.002755     -0.493227  \n",
       "13499996      1.076380  0.555061     -0.493227  \n",
       "13499997      1.076380 -0.002755     -0.493227  \n",
       "13499998      1.076380 -0.002755     -0.493227  \n",
       "13499999      1.076380 -0.002755     -0.493227  \n",
       "\n",
       "[13500000 rows x 9 columns]"
      ]
     },
     "execution_count": 29,
     "metadata": {},
     "output_type": "execute_result"
    }
   ],
   "source": [
    "# standardize\n",
    "from sklearn.preprocessing import StandardScaler\n",
    "\n",
    "scaler = StandardScaler()\n",
    "df10csv_scaled = scaler.fit_transform(df10csv)\n",
    "df10csv_scaled = pd.DataFrame(df10csv_scaled, columns=df10csv.columns)\n",
    "df10csv_scaled"
   ]
  },
  {
   "attachments": {},
   "cell_type": "markdown",
   "metadata": {},
   "source": [
    "# CSV 파일 Dataframe pickle로 저장"
   ]
  },
  {
   "cell_type": "code",
   "execution_count": 31,
   "metadata": {},
   "outputs": [],
   "source": [
    "with open(\"pickles/10월/df10_scaled.pkl\", \"wb\") as f:\n",
    "    pkl.dump(df10csv_scaled, f)\n",
    "\n",
    "# # save csv file\n",
    "# df10csv_scaled.to_csv(\"pickles/10월/df10_scaled.csv\", index=False)"
   ]
  },
  {
   "cell_type": "code",
   "execution_count": 32,
   "metadata": {},
   "outputs": [],
   "source": [
    "df10csv_scaled = pd.read_pickle(\"pickles/10월/df10_scaled.pkl\") # load scaled csv file"
   ]
  },
  {
   "cell_type": "code",
   "execution_count": 33,
   "metadata": {},
   "outputs": [],
   "source": [
    "# reshape 1350000 rows × 9 columns to 1350000 rows x 9 columns x 10, and changed to numpy array\n",
    "df10csv_scaled_npy = df10csv_scaled.values.reshape(df10csv_scaled.shape[0]//10, 10, 9)\n",
    "df10csv_scaled_npy = df10csv_scaled_npy.transpose(0, 2, 1)"
   ]
  },
  {
   "cell_type": "code",
   "execution_count": 34,
   "metadata": {},
   "outputs": [],
   "source": [
    "# save numpy array as npy file\n",
    "np.save(\"pickles/10월/X_10.npy\", df10csv_scaled_npy)"
   ]
  },
  {
   "cell_type": "code",
   "execution_count": 35,
   "metadata": {},
   "outputs": [
    {
     "name": "stdout",
     "output_type": "stream",
     "text": [
      "(1350000, 9, 10)\n"
     ]
    },
    {
     "data": {
      "text/plain": [
       "array([[[-1.55060453, -1.55060453, -1.55060453, -1.55060453,\n",
       "         -1.55060453, -1.55060453, -1.55060453, -1.55060453,\n",
       "         -1.55060453, -1.55060453],\n",
       "        [ 0.34345709,  0.34345709,  0.34345709,  0.34345709,\n",
       "          0.34345709,  0.34345709,  0.34345709,  0.34345709,\n",
       "          0.34345709,  0.34345709],\n",
       "        [ 0.04855927,  0.04855893,  0.0485587 ,  0.04855848,\n",
       "          0.04855814,  0.04855814,  0.04855791,  0.0485578 ,\n",
       "          0.04855757,  0.04855757],\n",
       "        [ 0.01518095,  0.01518095,  0.01518095,  0.01517936,\n",
       "          0.01517856,  0.01517856,  0.01517856,  0.01517856,\n",
       "          0.01517697,  0.01517697],\n",
       "        [-0.61820431, -0.61820431, -0.61820431, -0.61820431,\n",
       "         -0.61820431, -0.61820431, -0.61820431, -0.61820431,\n",
       "         -0.61820431, -0.61820431],\n",
       "        [-0.81721231, -0.81721231, -0.81721231, -0.81721231,\n",
       "         -0.81721231, -0.81721231, -0.81721231, -0.81721231,\n",
       "         -0.81721231, -0.81721231],\n",
       "        [ 1.12736656,  1.12736656,  1.12736656,  1.12736656,\n",
       "          1.12736656,  1.12736656,  1.12736656,  1.12736656,\n",
       "          1.12736656,  1.12736656],\n",
       "        [-0.00275486, -0.00275486, -0.00275486, -0.00275486,\n",
       "         -0.00275486, -0.00275486, -0.00275486, -0.00275486,\n",
       "         -0.00275486, -0.00275486],\n",
       "        [-0.49322711, -0.49322711, -0.49322711, -0.49322711,\n",
       "         -0.49322711, -0.49322711, -0.49322711, -0.49322711,\n",
       "         -0.49322711, -0.49322711]],\n",
       "\n",
       "       [[-1.55060453, -1.55060453, -1.55060453, -1.55060453,\n",
       "         -1.55060453, -1.55060453, -1.55060453, -1.55060453,\n",
       "         -1.55060453, -1.55060453],\n",
       "        [ 0.34345709,  0.34345709,  0.34345709,  0.34345709,\n",
       "          0.34345709,  0.34345709,  0.34345709,  0.34345709,\n",
       "          0.34345709,  0.34345709],\n",
       "        [ 0.04855734,  0.04855723,  0.048557  ,  0.04855678,\n",
       "          0.04855678,  0.04855666,  0.04855643,  0.04855621,\n",
       "          0.04855621,  0.04855609],\n",
       "        [ 0.01517697,  0.01517538,  0.01517538,  0.01517379,\n",
       "          0.01517379,  0.01517379,  0.01517379,  0.01517379,\n",
       "          0.01517379,  0.01517379],\n",
       "        [-0.61820431, -0.61820431, -0.61820431, -0.61820431,\n",
       "         -0.61820431, -0.61820431, -0.61820431, -0.61820431,\n",
       "         -0.61820431, -0.61820431],\n",
       "        [-0.81721231, -0.81721231, -0.81721231, -0.81721231,\n",
       "         -0.81721231, -0.81721231, -0.81721231, -0.81721231,\n",
       "         -0.81721231, -0.81721231],\n",
       "        [ 1.12736656,  1.12736656,  1.12736656,  1.12736656,\n",
       "          1.12736656,  1.12736656,  1.12736656,  1.12736656,\n",
       "          1.12736656,  1.12736656],\n",
       "        [-0.00275486, -0.00275486, -0.00275486, -0.00275486,\n",
       "         -0.00275486, -0.00275486, -0.00275486, -0.00275486,\n",
       "         -0.00275486, -0.00275486],\n",
       "        [-0.49322711, -0.49322711, -0.49322711, -0.49322711,\n",
       "         -0.49322711, -0.49322711, -0.49322711, -0.49322711,\n",
       "         -0.49322711, -0.49322711]]])"
      ]
     },
     "execution_count": 35,
     "metadata": {},
     "output_type": "execute_result"
    }
   ],
   "source": [
    "print(df10csv_scaled_npy.shape)\n",
    "df10csv_scaled_npy[:2]"
   ]
  },
  {
   "attachments": {},
   "cell_type": "markdown",
   "metadata": {},
   "source": [
    "----------------------"
   ]
  },
  {
   "attachments": {},
   "cell_type": "markdown",
   "metadata": {},
   "source": [
    "# JSON"
   ]
  },
  {
   "cell_type": "code",
   "execution_count": 42,
   "metadata": {},
   "outputs": [],
   "source": [
    "with open(\"pickles/10월/JSON10.pkl\", \"rb\") as f:\n",
    "    json_files10 = pkl.load(f)"
   ]
  },
  {
   "cell_type": "code",
   "execution_count": 3,
   "metadata": {},
   "outputs": [
    {
     "data": {
      "text/plain": [
       "{'Path': 'V_221001_C_A_FFE809A6_000030.csv',\n",
       " 'Annotation': {'Vehicle_ID': 'FFE809A6',\n",
       "  'Turn': 'False',\n",
       "  'Lane': 'False',\n",
       "  'Speed': 'False',\n",
       "  'Hazard': 'False'}}"
      ]
     },
     "execution_count": 3,
     "metadata": {},
     "output_type": "execute_result"
    }
   ],
   "source": [
    "# json info\n",
    "with open(json_files10[0], \"r\") as f:\n",
    "    json_sample = json.load(f)\n",
    "json_sample"
   ]
  },
  {
   "cell_type": "code",
   "execution_count": 46,
   "metadata": {},
   "outputs": [
    {
     "name": "stdout",
     "output_type": "stream",
     "text": [
      "['Turn', 'Lane', 'Speed', 'Hazard']\n"
     ]
    },
    {
     "name": "stderr",
     "output_type": "stream",
     "text": [
      "100%|██████████| 1350000/1350000 [28:35<00:00, 786.86it/s] \n"
     ]
    }
   ],
   "source": [
    "json10_list = []\n",
    "cols = ['Turn', 'Lane', 'Speed', 'Hazard']\n",
    "print(cols)\n",
    "\n",
    "df8json = pd.DataFrame(columns=cols)\n",
    "for i in trange(len(json_files10)):\n",
    "    with open(json_files10[i], \"r\") as f:\n",
    "        try:\n",
    "            temp_json = json.load(f)\n",
    "            temp_json = [temp_json['Annotation'][key][:4] for key in temp_json['Annotation'].keys() if key in cols]\n",
    "            json10_list.append(temp_json)\n",
    "            \n",
    "        except Exception as e:\n",
    "            print(f\"{json_files10[i]} error: {e}\")\n",
    "            continue\n",
    "        \n",
    "# json8_list = [x[:4] for x in json8_list]\n",
    "json10_npy = np.array(json10_list)\n",
    "np.save(\"pickles/10월/y_10.npy\", json10_npy)"
   ]
  },
  {
   "attachments": {},
   "cell_type": "markdown",
   "metadata": {},
   "source": [
    "# Time series classification"
   ]
  },
  {
   "cell_type": "code",
   "execution_count": 47,
   "metadata": {},
   "outputs": [
    {
     "name": "stdout",
     "output_type": "stream",
     "text": [
      "turn: ['Fals' 'Left' 'Reve' 'Righ']\n",
      "lane: ['Fals']\n",
      "speed: ['Acc' 'Fals' 'Hbrk']\n",
      "hazard: ['Fals' 'True']\n",
      "turn: Counter({'Fals': 1273760, 'Righ': 38146, 'Left': 35737, 'Reve': 2357})\n",
      "lane: Counter({'Fals': 1350000})\n",
      "speed: Counter({'Fals': 1348931, 'Hbrk': 800, 'Acc': 269})\n",
      "hazard: Counter({'Fals': 1345491, 'True': 4509})\n"
     ]
    }
   ],
   "source": [
    "X = np.load(\"pickles/10월/X_10.npy\")\n",
    "y = np.load(\"pickles/10월/y_10.npy\")\n",
    "\n",
    "###\n",
    "from collections import Counter\n",
    "print(\"turn:\", np.unique(y[:, 0]))\n",
    "print(\"lane:\", np.unique(y[:, 1]))\n",
    "print(\"speed:\", np.unique(y[:, 2]))\n",
    "print(\"hazard:\", np.unique(y[:, 3]))\n",
    "print(\"turn:\", Counter(y[:, 0]))\n",
    "print(\"lane:\", Counter(y[:, 1]))\n",
    "print(\"speed:\", Counter(y[:, 2]))\n",
    "print(\"hazard:\", Counter(y[:, 3]))"
   ]
  },
  {
   "cell_type": "code",
   "execution_count": 48,
   "metadata": {},
   "outputs": [
    {
     "data": {
      "image/png": "[encoded data removed]",
      "text/plain": [
       "<Figure size 1600x50 with 1 Axes>"
      ]
     },
     "metadata": {},
     "output_type": "display_data"
    }
   ],
   "source": [
    "from tsai.all import *\n",
    "config = AttrDict(\n",
    "    batch_tfms = TSStandardize(by_sample=True),\n",
    "    arch_config = {},\n",
    "    architecture = LSTM, # LSTM, MLSTM_Plus\n",
    "    lr = 1e-3,\n",
    "    n_epochs = 200,\n",
    ")\n",
    "\n",
    "X = np.load(\"pickles/10월/X_10.npy\")\n",
    "y = np.load(\"pickles/10월/y_10.npy\")\n",
    "split_all = get_splits(y[:,0], shuffle=True, valid_size=0.2, test_size=0.2, random_state=42)\n",
    "split = split_all"
   ]
  },
  {
   "cell_type": "code",
   "execution_count": 49,
   "metadata": {},
   "outputs": [
    {
     "data": {
      "text/plain": [
       "((1350000, 9, 10), (1350000, 4))"
      ]
     },
     "execution_count": 49,
     "metadata": {},
     "output_type": "execute_result"
    }
   ],
   "source": [
    "X.shape, y.shape"
   ]
  },
  {
   "cell_type": "code",
   "execution_count": 50,
   "metadata": {},
   "outputs": [],
   "source": [
    "test_eq(X.shape, (X.shape[0], 9, 10))\n",
    "test_eq(y.shape, (X.shape[0], 4))"
   ]
  },
  {
   "cell_type": "code",
   "execution_count": 51,
   "metadata": {},
   "outputs": [],
   "source": [
    "tfms = [None, [MultiCategorize, OneHotEncode]]\n",
    "dsets = TSDatasets(X, y, tfms=tfms, splits=split)\n",
    "dls = TSDataLoaders.from_dsets(dsets.train, dsets.valid, bs=[64, 128], shuffle_train=False, batch_tfms=[TSStandardize()])\n",
    "\n",
    "model = InceptionTime(dls.vars, dls.c)\n",
    "learn = Learner(dls, model, loss_func=BCEWithLogitsLossFlat(), metrics=[accuracy_multi, precision_multi, F1_multi])\n",
    "learn.fit_one_cycle(10)\n",
    "learn.recorder.plot_loss()"
   ]
  },
  {
   "cell_type": "code",
   "execution_count": null,
   "metadata": {},
   "outputs": [],
   "source": [
    "learn.recorder.plot_metrics()\n",
    "learn.save_all(\"models/V2X_10\")"
   ]
  },
  {
   "attachments": {},
   "cell_type": "markdown",
   "metadata": {},
   "source": [
    "-------------------"
   ]
  }
 ],
 "metadata": {
  "kernelspec": {
   "display_name": "pius310",
   "language": "python",
   "name": "python3"
  },
  "language_info": {
   "codemirror_mode": {
    "name": "ipython",
    "version": 3
   },
   "file_extension": ".py",
   "mimetype": "text/x-python",
   "name": "python",
   "nbconvert_exporter": "python",
   "pygments_lexer": "ipython3",
   "version": "3.10.9"
  },
  "orig_nbformat": 4,
  "vscode": {
   "interpreter": {
    "hash": "48ca3073c5549c1ccf4f4a58b2740315d5bce04ee37289cb933f5ff9b483ac6d"
   }
  }
 },
 "nbformat": 4,
 "nbformat_minor": 2
}
