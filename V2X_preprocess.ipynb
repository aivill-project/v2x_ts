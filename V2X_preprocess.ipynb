{
 "cells": [
  {
   "attachments": {},
   "cell_type": "markdown",
   "metadata": {},
   "source": [
    "# 데이터 정보"
   ]
  },
  {
   "cell_type": "code",
   "execution_count": 19,
   "metadata": {},
   "outputs": [],
   "source": [
    "import numpy as np\n",
    "import cv2\n",
    "import torch\n",
    "import pandas as pd\n",
    "import re\n",
    "import pickle as pkl\n",
    "import json\n",
    "import glob\n",
    "import shutil\n",
    "import os\n",
    "import json\n",
    "import pathlib as pl\n",
    "from typing import List\n",
    "from tqdm import trange, tqdm\n",
    "from glob import glob\n",
    "from collections import Counter\n",
    "from sklearn.model_selection import train_test_split"
   ]
  },
  {
   "cell_type": "code",
   "execution_count": 20,
   "metadata": {},
   "outputs": [],
   "source": [
    "# Get all json files in the labeled data\n",
    "data_path = \"/data/NIA50/50-1/data/labeled_test\"\n",
    "data_path: pl.Path = pl.Path(data_path)\n",
    "\n",
    "# Get all json files path in the labeled data\n",
    "label_path: List[str] = sorted([str(p) for p in data_path.rglob(\"**/*.json\")])\n",
    "\n",
    "# Get all txt files in the labeled data\n",
    "txtfile_path: List[str] = sorted([p for p in data_path.rglob(\"**/*.txt\")])"
   ]
  },
  {
   "cell_type": "code",
   "execution_count": 21,
   "metadata": {},
   "outputs": [],
   "source": [
    "# # save label_path and txtfile_path to pickle file\n",
    "# with open(\"label_path.pkl\", \"wb\") as f:\n",
    "#     pkl.dump(label_path, f)\n",
    "# with open(\"txtfile_path.pkl\", \"wb\") as f:\n",
    "#     pkl.dump(txtfile_path, f)\n"
   ]
  },
  {
   "cell_type": "code",
   "execution_count": 22,
   "metadata": {},
   "outputs": [],
   "source": [
    "label_path = pkl.load(open(\"label_path.pkl\", \"rb\"))\n",
    "\n",
    "import shutil\n",
    "\n",
    "# create an empty folder named label move all json files to label folder\n",
    "for p in label_path:\n",
    "    shutil.move(p, p.replace(\"labeled_test\", \"label\"))"
   ]
  }
 ],
 "metadata": {
  "kernelspec": {
   "display_name": "pius311",
   "language": "python",
   "name": "python3"
  },
  "language_info": {
   "codemirror_mode": {
    "name": "ipython",
    "version": 3
   },
   "file_extension": ".py",
   "mimetype": "text/x-python",
   "name": "python",
   "nbconvert_exporter": "python",
   "pygments_lexer": "ipython3",
   "version": "3.11.0"
  },
  "orig_nbformat": 4,
  "vscode": {
   "interpreter": {
    "hash": "162e1a67a6dedeb317c4b342015eab102527d264c044b83f75a275cf523bd5ea"
   }
  }
 },
 "nbformat": 4,
 "nbformat_minor": 2
}
