{
 "cells": [
  {
   "attachments": {},
   "cell_type": "markdown",
   "metadata": {},
   "source": [
    "# V2X 데이터 정보"
   ]
  },
  {
   "cell_type": "code",
   "execution_count": 1,
   "metadata": {},
   "outputs": [],
   "source": [
    "import numpy as np\n",
    "import cv2\n",
    "import torch\n",
    "import pandas as pd\n",
    "import re\n",
    "import pickle as pkl\n",
    "import json\n",
    "import glob\n",
    "import shutil\n",
    "import os\n",
    "import json\n",
    "import pathlib as pl\n",
    "from typing import List, Tuple, Dict, Union, Optional\n",
    "from tqdm import trange, tqdm\n",
    "from glob import glob\n",
    "from collections import Counter\n",
    "from sklearn.model_selection import train_test_split\n",
    "\n",
    "from preprocessing import V2XPreprocessing\n",
    "from modules.v2x import V2XData,V2XDataLabeled\n",
    "from modules.metrics import *\n",
    "from tsai.all import *\n",
    "from tqdm import tqdm\n",
    "from modules.RunTSAI import RunTSAI\n",
    "from sklearn.utils import shuffle\n",
    "\n",
    "\n",
    "data_path_8 = \"/data/NIA50/50-1/data/v2xfinal/8월\"\n",
    "data_path_8s = \"/data/NIA50/50-1/data/v2xfinal/8월세종\"\n",
    "data_path_9 = \"/data/NIA50/50-1/data/v2xfinal/9월\"\n",
    "data_path_10 = \"/data/NIA50/50-1/data/v2xfinal/10월\"\n",
    "data_path_11 = \"/data/NIA50/50-1/data/v2xfinal/11월\""
   ]
  },
  {
   "attachments": {},
   "cell_type": "markdown",
   "metadata": {},
   "source": [
    "## CSV, JSON 파일 경로 리스트 만들기\n",
    "- CSV, JSON 파일을 한 경로에 담기\n",
    "  - 8월\n",
    "  -  ㄴ CSV\n",
    "  -  ㄴ JSON\n",
    "  - 9월\n",
    "  -  ㄴ CSV\n",
    "  -  ㄴ JSON"
   ]
  },
  {
   "cell_type": "code",
   "execution_count": 2,
   "metadata": {},
   "outputs": [
    {
     "name": "stdout",
     "output_type": "stream",
     "text": [
      "csv file count: 1350000, json file count: 1350000\n"
     ]
    }
   ],
   "source": [
    "# 11월csv파일과 json파일을 각각 리스트로 가져옴\n",
    "csv_files11, json_files11 = V2XPreprocessing.get_csv_data(data_path_11 + \"/CSV\"), \\\n",
    "                            V2XPreprocessing.get_json_data(data_path_11 + \"/JSON\")\n",
    "print(f\"csv file count: {len(csv_files11)}, json file count: {len(json_files11)}\")"
   ]
  },
  {
   "cell_type": "code",
   "execution_count": 3,
   "metadata": {},
   "outputs": [],
   "source": [
    "# csv파일과 json파일 리스트를 pickle로 저장\n",
    "with open(\"pickles/11월/CSV11.pkl\", \"wb\") as f:\n",
    "    pkl.dump(csv_files11, f)\n",
    "with open(\"pickles/11월/JSON11.pkl\", \"wb\") as f:\n",
    "    pkl.dump(json_files11, f)"
   ]
  },
  {
   "cell_type": "code",
   "execution_count": 3,
   "metadata": {},
   "outputs": [],
   "source": [
    "# csv파일과 json파일 각 리스트를 pickle로 가져옴\n",
    "with open(\"pickles/11월/CSV11.pkl\", \"rb\") as f:\n",
    "    csv_files11 = pkl.load(f)\n",
    "with open(\"pickles/11월/JSON11.pkl\", \"rb\") as f:\n",
    "    json_files11 = pkl.load(f)"
   ]
  },
  {
   "cell_type": "code",
   "execution_count": 4,
   "metadata": {},
   "outputs": [
    {
     "name": "stderr",
     "output_type": "stream",
     "text": [
      "Reading csv files: 100%|██████████| 1350000/1350000 [1:05:52<00:00, 341.55it/s]\n"
     ]
    }
   ],
   "source": [
    "# CSV파일 concat, pickle로 저장\n",
    "df11csv = [pd.read_csv(f) for f in tqdm(csv_files11, desc=\"Reading csv files\")]\n",
    "df11csv = pd.concat(df11csv, ignore_index=True)\n",
    "with open(\"pickles/11월/df11csv.pkl\", \"wb\") as f:\n",
    "    pkl.dump(df11csv, f)"
   ]
  },
  {
   "cell_type": "code",
   "execution_count": 6,
   "metadata": {},
   "outputs": [],
   "source": [
    "# CSV파일 concat pickle로 가져옴\n",
    "with open(\"pickles/11월/df11csv.pkl\", \"rb\") as f:\n",
    "    df11csv = pkl.load(f)"
   ]
  },
  {
   "cell_type": "code",
   "execution_count": 7,
   "metadata": {},
   "outputs": [
    {
     "data": {
      "text/html": [
       "<div>\n",
       "<style scoped>\n",
       "    .dataframe tbody tr th:only-of-type {\n",
       "        vertical-align: middle;\n",
       "    }\n",
       "\n",
       "    .dataframe tbody tr th {\n",
       "        vertical-align: top;\n",
       "    }\n",
       "\n",
       "    .dataframe thead th {\n",
       "        text-align: right;\n",
       "    }\n",
       "</style>\n",
       "<table border=\"1\" class=\"dataframe\">\n",
       "  <thead>\n",
       "    <tr style=\"text-align: right;\">\n",
       "      <th></th>\n",
       "      <th>ISSUE_DATE</th>\n",
       "      <th>VEHICLE_ID</th>\n",
       "      <th>VEHICLE_CLASS</th>\n",
       "      <th>LONGITUDE</th>\n",
       "      <th>LATITUDE</th>\n",
       "      <th>HEADING</th>\n",
       "      <th>SPEED</th>\n",
       "      <th>BRAKE_STATUS</th>\n",
       "      <th>ACC_SEC</th>\n",
       "      <th>VEHICLE_TYPE</th>\n",
       "    </tr>\n",
       "  </thead>\n",
       "  <tbody>\n",
       "    <tr>\n",
       "      <th>0</th>\n",
       "      <td>20220901133250</td>\n",
       "      <td>FFE809A1</td>\n",
       "      <td>9228</td>\n",
       "      <td>126.912622</td>\n",
       "      <td>35.155949</td>\n",
       "      <td>21</td>\n",
       "      <td>25</td>\n",
       "      <td>0</td>\n",
       "      <td>56</td>\n",
       "      <td>bus</td>\n",
       "    </tr>\n",
       "    <tr>\n",
       "      <th>1</th>\n",
       "      <td>20220901133251</td>\n",
       "      <td>FFE809A1</td>\n",
       "      <td>9228</td>\n",
       "      <td>126.912654</td>\n",
       "      <td>35.156013</td>\n",
       "      <td>21</td>\n",
       "      <td>28</td>\n",
       "      <td>0</td>\n",
       "      <td>56</td>\n",
       "      <td>bus</td>\n",
       "    </tr>\n",
       "    <tr>\n",
       "      <th>2</th>\n",
       "      <td>20220901133252</td>\n",
       "      <td>FFE809A1</td>\n",
       "      <td>9228</td>\n",
       "      <td>126.912685</td>\n",
       "      <td>35.156084</td>\n",
       "      <td>18</td>\n",
       "      <td>31</td>\n",
       "      <td>0</td>\n",
       "      <td>83</td>\n",
       "      <td>bus</td>\n",
       "    </tr>\n",
       "    <tr>\n",
       "      <th>3</th>\n",
       "      <td>20220901133253</td>\n",
       "      <td>FFE809A1</td>\n",
       "      <td>9228</td>\n",
       "      <td>126.912717</td>\n",
       "      <td>35.156163</td>\n",
       "      <td>18</td>\n",
       "      <td>32</td>\n",
       "      <td>0</td>\n",
       "      <td>28</td>\n",
       "      <td>bus</td>\n",
       "    </tr>\n",
       "    <tr>\n",
       "      <th>4</th>\n",
       "      <td>20220901133254</td>\n",
       "      <td>FFE809A1</td>\n",
       "      <td>9228</td>\n",
       "      <td>126.912748</td>\n",
       "      <td>35.156244</td>\n",
       "      <td>18</td>\n",
       "      <td>33</td>\n",
       "      <td>0</td>\n",
       "      <td>28</td>\n",
       "      <td>bus</td>\n",
       "    </tr>\n",
       "  </tbody>\n",
       "</table>\n",
       "</div>"
      ],
      "text/plain": [
       "       ISSUE_DATE VEHICLE_ID  VEHICLE_CLASS   LONGITUDE   LATITUDE  HEADING  \\\n",
       "0  20220901133250   FFE809A1           9228  126.912622  35.155949       21   \n",
       "1  20220901133251   FFE809A1           9228  126.912654  35.156013       21   \n",
       "2  20220901133252   FFE809A1           9228  126.912685  35.156084       18   \n",
       "3  20220901133253   FFE809A1           9228  126.912717  35.156163       18   \n",
       "4  20220901133254   FFE809A1           9228  126.912748  35.156244       18   \n",
       "\n",
       "   SPEED  BRAKE_STATUS  ACC_SEC VEHICLE_TYPE  \n",
       "0     25             0       56          bus  \n",
       "1     28             0       56          bus  \n",
       "2     31             0       83          bus  \n",
       "3     32             0       28          bus  \n",
       "4     33             0       28          bus  "
      ]
     },
     "execution_count": 7,
     "metadata": {},
     "output_type": "execute_result"
    }
   ],
   "source": [
    "df11csv.head()"
   ]
  },
  {
   "cell_type": "code",
   "execution_count": 8,
   "metadata": {},
   "outputs": [
    {
     "data": {
      "text/plain": [
       "ISSUE_DATE       0\n",
       "VEHICLE_ID       0\n",
       "VEHICLE_CLASS    0\n",
       "LONGITUDE        0\n",
       "LATITUDE         0\n",
       "HEADING          0\n",
       "SPEED            0\n",
       "BRAKE_STATUS     0\n",
       "ACC_SEC          0\n",
       "VEHICLE_TYPE     0\n",
       "dtype: int64"
      ]
     },
     "execution_count": 8,
     "metadata": {},
     "output_type": "execute_result"
    }
   ],
   "source": [
    "# NaN값 제거 후 NaN값이 있는지 확인\n",
    "df11csv = df11csv.dropna()\n",
    "# counts rows if there's NaN value\n",
    "df11csv.isna().sum()"
   ]
  },
  {
   "cell_type": "code",
   "execution_count": 9,
   "metadata": {},
   "outputs": [
    {
     "data": {
      "text/plain": [
       "(13500000, 10)"
      ]
     },
     "execution_count": 9,
     "metadata": {},
     "output_type": "execute_result"
    }
   ],
   "source": [
    "df11csv.shape"
   ]
  },
  {
   "cell_type": "code",
   "execution_count": 10,
   "metadata": {},
   "outputs": [
    {
     "name": "stdout",
     "output_type": "stream",
     "text": [
      "ISSUE_DATE: 0\n",
      "VEHICLE_CLASS: 0\n",
      "LONGITUDE: 0\n",
      "LATITUDE: 0\n",
      "HEADING: 0\n",
      "SPEED: 0\n",
      "BRAKE_STATUS: 0\n",
      "ACC_SEC: 0\n"
     ]
    }
   ],
   "source": [
    "# int or float type이 아닌 값이 있는지 확인\n",
    "for col in df11csv.columns:\n",
    "    if col in [\"VEHICLE_ID\", \"VEHICLE_TYPE\"]:\n",
    "        continue\n",
    "    # print if value is not float or int\n",
    "    print(f\"{col}: {df11csv[col].apply(lambda x: type(x) not in [float, int]).sum()}\")"
   ]
  },
  {
   "cell_type": "code",
   "execution_count": 11,
   "metadata": {},
   "outputs": [],
   "source": [
    "# exclude [\"ISSUE_DATE\"] column, values to int on [\"VEHICLE_CLASS\", \"HEADING\"], str on [\"VEHICLE_ID\", \"VEHICLE_TYPE\"], float on others\n",
    "\n",
    "for col in df11csv.columns:\n",
    "    if col in [\"ISSUE_DATE\"]:\n",
    "        df11csv.drop(col, axis=1, inplace=True)\n",
    "    elif col in [\"VEHICLE_CLASS\", \"HEADING\"]:\n",
    "        df11csv[col] = df11csv[col].astype(int)\n",
    "    elif col in [\"VEHICLE_ID\", \"VEHICLE_TYPE\"]:\n",
    "        df11csv[col] = df11csv[col].astype(str)\n",
    "    else:\n",
    "        df11csv[col] = df11csv[col].astype(float)"
   ]
  },
  {
   "cell_type": "code",
   "execution_count": 12,
   "metadata": {},
   "outputs": [
    {
     "name": "stdout",
     "output_type": "stream",
     "text": [
      "VEHICLE_ID: FFE80C05    18800\n",
      "FFE80D2A    18600\n",
      "FFE80CBE    18200\n",
      "FFE80D14    17600\n",
      "FFE80D4B    17600\n",
      "            ...  \n",
      "FFE80CB2      200\n",
      "FFE80E5B      200\n",
      "70CE0D36      200\n",
      "FFE80FD1      200\n",
      "FFE81127      200\n",
      "Name: VEHICLE_ID, Length: 1689, dtype: int64\n",
      "VEHICLE_ID unique: (1689,)\n",
      "\n",
      "VEHICLE_CLASS: 9228    10006383\n",
      "9220     3099277\n",
      "9736      159340\n",
      "9230       98200\n",
      "9741       97200\n",
      "9240       28400\n",
      "9734       11000\n",
      "9227         200\n",
      "Name: VEHICLE_CLASS, dtype: int64\n",
      "VEHICLE_CLASS unique: (8,)\n",
      "\n",
      "VEHICLE_TYPE: bus         10005566\n",
      "car          3098919\n",
      "special       394091\n",
      "none            1224\n",
      "axleCnt2         200\n",
      "Name: VEHICLE_TYPE, dtype: int64\n",
      "VEHICLE_TYPE unique: (5,)\n",
      "\n"
     ]
    }
   ],
   "source": [
    "# value counts of VEHICLE_ID VEHICLE_CLASS VEHICLE_TYPE\n",
    "for col in df11csv.columns:\n",
    "    if col in [\"VEHICLE_ID\", \"VEHICLE_CLASS\", \"VEHICLE_TYPE\"]:\n",
    "        print(f\"{col}: {df11csv[col].value_counts()}\")\n",
    "        print(f\"{col} unique: {df11csv[col].unique().shape}\", end=\"\\n\\n\")"
   ]
  },
  {
   "cell_type": "code",
   "execution_count": 13,
   "metadata": {},
   "outputs": [
    {
     "name": "stdout",
     "output_type": "stream",
     "text": [
      "[   6    6    6 ... 1677 1677 1677]\n",
      "[2 2 2 ... 2 2 2]\n",
      "[1 1 1 ... 1 1 1]\n"
     ]
    }
   ],
   "source": [
    "# categorize [\"VEHICLE_ID\", \"VEHICLE_CLASS\", \"VEHICLE_TYPE\"] columns\n",
    "from sklearn.preprocessing import LabelEncoder\n",
    "\n",
    "for col in df11csv.columns:\n",
    "    if col in [\"VEHICLE_ID\", \"VEHICLE_CLASS\", \"VEHICLE_TYPE\"]:\n",
    "        encoder = LabelEncoder()\n",
    "        encoder.fit(df11csv[col])\n",
    "        categorized_array = encoder.transform(df11csv[col])\n",
    "        print(categorized_array)\n",
    "        df11csv[col] = categorized_array"
   ]
  },
  {
   "cell_type": "code",
   "execution_count": 14,
   "metadata": {},
   "outputs": [
    {
     "data": {
      "text/html": [
       "<div>\n",
       "<style scoped>\n",
       "    .dataframe tbody tr th:only-of-type {\n",
       "        vertical-align: middle;\n",
       "    }\n",
       "\n",
       "    .dataframe tbody tr th {\n",
       "        vertical-align: top;\n",
       "    }\n",
       "\n",
       "    .dataframe thead th {\n",
       "        text-align: right;\n",
       "    }\n",
       "</style>\n",
       "<table border=\"1\" class=\"dataframe\">\n",
       "  <thead>\n",
       "    <tr style=\"text-align: right;\">\n",
       "      <th></th>\n",
       "      <th>VEHICLE_ID</th>\n",
       "      <th>VEHICLE_CLASS</th>\n",
       "      <th>LONGITUDE</th>\n",
       "      <th>LATITUDE</th>\n",
       "      <th>HEADING</th>\n",
       "      <th>SPEED</th>\n",
       "      <th>BRAKE_STATUS</th>\n",
       "      <th>ACC_SEC</th>\n",
       "      <th>VEHICLE_TYPE</th>\n",
       "    </tr>\n",
       "  </thead>\n",
       "  <tbody>\n",
       "    <tr>\n",
       "      <th>0</th>\n",
       "      <td>6</td>\n",
       "      <td>2</td>\n",
       "      <td>126.912622</td>\n",
       "      <td>35.155949</td>\n",
       "      <td>21</td>\n",
       "      <td>25.0</td>\n",
       "      <td>0.0</td>\n",
       "      <td>56.0</td>\n",
       "      <td>1</td>\n",
       "    </tr>\n",
       "    <tr>\n",
       "      <th>1</th>\n",
       "      <td>6</td>\n",
       "      <td>2</td>\n",
       "      <td>126.912654</td>\n",
       "      <td>35.156013</td>\n",
       "      <td>21</td>\n",
       "      <td>28.0</td>\n",
       "      <td>0.0</td>\n",
       "      <td>56.0</td>\n",
       "      <td>1</td>\n",
       "    </tr>\n",
       "    <tr>\n",
       "      <th>2</th>\n",
       "      <td>6</td>\n",
       "      <td>2</td>\n",
       "      <td>126.912685</td>\n",
       "      <td>35.156084</td>\n",
       "      <td>18</td>\n",
       "      <td>31.0</td>\n",
       "      <td>0.0</td>\n",
       "      <td>83.0</td>\n",
       "      <td>1</td>\n",
       "    </tr>\n",
       "    <tr>\n",
       "      <th>3</th>\n",
       "      <td>6</td>\n",
       "      <td>2</td>\n",
       "      <td>126.912717</td>\n",
       "      <td>35.156163</td>\n",
       "      <td>18</td>\n",
       "      <td>32.0</td>\n",
       "      <td>0.0</td>\n",
       "      <td>28.0</td>\n",
       "      <td>1</td>\n",
       "    </tr>\n",
       "    <tr>\n",
       "      <th>4</th>\n",
       "      <td>6</td>\n",
       "      <td>2</td>\n",
       "      <td>126.912748</td>\n",
       "      <td>35.156244</td>\n",
       "      <td>18</td>\n",
       "      <td>33.0</td>\n",
       "      <td>0.0</td>\n",
       "      <td>28.0</td>\n",
       "      <td>1</td>\n",
       "    </tr>\n",
       "    <tr>\n",
       "      <th>...</th>\n",
       "      <td>...</td>\n",
       "      <td>...</td>\n",
       "      <td>...</td>\n",
       "      <td>...</td>\n",
       "      <td>...</td>\n",
       "      <td>...</td>\n",
       "      <td>...</td>\n",
       "      <td>...</td>\n",
       "      <td>...</td>\n",
       "    </tr>\n",
       "    <tr>\n",
       "      <th>13499995</th>\n",
       "      <td>1677</td>\n",
       "      <td>2</td>\n",
       "      <td>126.786182</td>\n",
       "      <td>35.127261</td>\n",
       "      <td>163</td>\n",
       "      <td>29.0</td>\n",
       "      <td>0.0</td>\n",
       "      <td>0.0</td>\n",
       "      <td>1</td>\n",
       "    </tr>\n",
       "    <tr>\n",
       "      <th>13499996</th>\n",
       "      <td>1677</td>\n",
       "      <td>2</td>\n",
       "      <td>126.786210</td>\n",
       "      <td>35.127190</td>\n",
       "      <td>161</td>\n",
       "      <td>29.0</td>\n",
       "      <td>0.0</td>\n",
       "      <td>-28.0</td>\n",
       "      <td>1</td>\n",
       "    </tr>\n",
       "    <tr>\n",
       "      <th>13499997</th>\n",
       "      <td>1677</td>\n",
       "      <td>2</td>\n",
       "      <td>126.786236</td>\n",
       "      <td>35.127119</td>\n",
       "      <td>162</td>\n",
       "      <td>29.0</td>\n",
       "      <td>0.0</td>\n",
       "      <td>0.0</td>\n",
       "      <td>1</td>\n",
       "    </tr>\n",
       "    <tr>\n",
       "      <th>13499998</th>\n",
       "      <td>1677</td>\n",
       "      <td>2</td>\n",
       "      <td>126.786263</td>\n",
       "      <td>35.127051</td>\n",
       "      <td>162</td>\n",
       "      <td>28.0</td>\n",
       "      <td>0.0</td>\n",
       "      <td>0.0</td>\n",
       "      <td>1</td>\n",
       "    </tr>\n",
       "    <tr>\n",
       "      <th>13499999</th>\n",
       "      <td>1677</td>\n",
       "      <td>2</td>\n",
       "      <td>126.786289</td>\n",
       "      <td>35.126983</td>\n",
       "      <td>162</td>\n",
       "      <td>28.0</td>\n",
       "      <td>0.0</td>\n",
       "      <td>0.0</td>\n",
       "      <td>1</td>\n",
       "    </tr>\n",
       "  </tbody>\n",
       "</table>\n",
       "<p>13500000 rows × 9 columns</p>\n",
       "</div>"
      ],
      "text/plain": [
       "          VEHICLE_ID  VEHICLE_CLASS   LONGITUDE   LATITUDE  HEADING  SPEED  \\\n",
       "0                  6              2  126.912622  35.155949       21   25.0   \n",
       "1                  6              2  126.912654  35.156013       21   28.0   \n",
       "2                  6              2  126.912685  35.156084       18   31.0   \n",
       "3                  6              2  126.912717  35.156163       18   32.0   \n",
       "4                  6              2  126.912748  35.156244       18   33.0   \n",
       "...              ...            ...         ...        ...      ...    ...   \n",
       "13499995        1677              2  126.786182  35.127261      163   29.0   \n",
       "13499996        1677              2  126.786210  35.127190      161   29.0   \n",
       "13499997        1677              2  126.786236  35.127119      162   29.0   \n",
       "13499998        1677              2  126.786263  35.127051      162   28.0   \n",
       "13499999        1677              2  126.786289  35.126983      162   28.0   \n",
       "\n",
       "          BRAKE_STATUS  ACC_SEC  VEHICLE_TYPE  \n",
       "0                  0.0     56.0             1  \n",
       "1                  0.0     56.0             1  \n",
       "2                  0.0     83.0             1  \n",
       "3                  0.0     28.0             1  \n",
       "4                  0.0     28.0             1  \n",
       "...                ...      ...           ...  \n",
       "13499995           0.0      0.0             1  \n",
       "13499996           0.0    -28.0             1  \n",
       "13499997           0.0      0.0             1  \n",
       "13499998           0.0      0.0             1  \n",
       "13499999           0.0      0.0             1  \n",
       "\n",
       "[13500000 rows x 9 columns]"
      ]
     },
     "execution_count": 14,
     "metadata": {},
     "output_type": "execute_result"
    }
   ],
   "source": [
    "# index reset\n",
    "df11csv.reset_index(drop=True, inplace=True)\n",
    "df11csv"
   ]
  },
  {
   "attachments": {},
   "cell_type": "markdown",
   "metadata": {},
   "source": [
    "# Standarization"
   ]
  },
  {
   "cell_type": "code",
   "execution_count": 15,
   "metadata": {},
   "outputs": [
    {
     "data": {
      "text/html": [
       "<div>\n",
       "<style scoped>\n",
       "    .dataframe tbody tr th:only-of-type {\n",
       "        vertical-align: middle;\n",
       "    }\n",
       "\n",
       "    .dataframe tbody tr th {\n",
       "        vertical-align: top;\n",
       "    }\n",
       "\n",
       "    .dataframe thead th {\n",
       "        text-align: right;\n",
       "    }\n",
       "</style>\n",
       "<table border=\"1\" class=\"dataframe\">\n",
       "  <thead>\n",
       "    <tr style=\"text-align: right;\">\n",
       "      <th></th>\n",
       "      <th>VEHICLE_ID</th>\n",
       "      <th>VEHICLE_CLASS</th>\n",
       "      <th>LONGITUDE</th>\n",
       "      <th>LATITUDE</th>\n",
       "      <th>HEADING</th>\n",
       "      <th>SPEED</th>\n",
       "      <th>BRAKE_STATUS</th>\n",
       "      <th>ACC_SEC</th>\n",
       "      <th>VEHICLE_TYPE</th>\n",
       "    </tr>\n",
       "  </thead>\n",
       "  <tbody>\n",
       "    <tr>\n",
       "      <th>0</th>\n",
       "      <td>-1.564226</td>\n",
       "      <td>0.333399</td>\n",
       "      <td>0.044779</td>\n",
       "      <td>-0.017130</td>\n",
       "      <td>-1.338208</td>\n",
       "      <td>0.448211</td>\n",
       "      <td>-0.913881</td>\n",
       "      <td>1.130941</td>\n",
       "      <td>-0.506789</td>\n",
       "    </tr>\n",
       "    <tr>\n",
       "      <th>1</th>\n",
       "      <td>-1.564226</td>\n",
       "      <td>0.333399</td>\n",
       "      <td>0.044807</td>\n",
       "      <td>-0.016916</td>\n",
       "      <td>-1.338208</td>\n",
       "      <td>0.599930</td>\n",
       "      <td>-0.913881</td>\n",
       "      <td>1.130941</td>\n",
       "      <td>-0.506789</td>\n",
       "    </tr>\n",
       "    <tr>\n",
       "      <th>2</th>\n",
       "      <td>-1.564226</td>\n",
       "      <td>0.333399</td>\n",
       "      <td>0.044835</td>\n",
       "      <td>-0.016678</td>\n",
       "      <td>-1.365698</td>\n",
       "      <td>0.751648</td>\n",
       "      <td>-0.913881</td>\n",
       "      <td>1.677418</td>\n",
       "      <td>-0.506789</td>\n",
       "    </tr>\n",
       "    <tr>\n",
       "      <th>3</th>\n",
       "      <td>-1.564226</td>\n",
       "      <td>0.333399</td>\n",
       "      <td>0.044863</td>\n",
       "      <td>-0.016415</td>\n",
       "      <td>-1.365698</td>\n",
       "      <td>0.802221</td>\n",
       "      <td>-0.913881</td>\n",
       "      <td>0.564224</td>\n",
       "      <td>-0.506789</td>\n",
       "    </tr>\n",
       "    <tr>\n",
       "      <th>4</th>\n",
       "      <td>-1.564226</td>\n",
       "      <td>0.333399</td>\n",
       "      <td>0.044891</td>\n",
       "      <td>-0.016146</td>\n",
       "      <td>-1.365698</td>\n",
       "      <td>0.852794</td>\n",
       "      <td>-0.913881</td>\n",
       "      <td>0.564224</td>\n",
       "      <td>-0.506789</td>\n",
       "    </tr>\n",
       "    <tr>\n",
       "      <th>...</th>\n",
       "      <td>...</td>\n",
       "      <td>...</td>\n",
       "      <td>...</td>\n",
       "      <td>...</td>\n",
       "      <td>...</td>\n",
       "      <td>...</td>\n",
       "      <td>...</td>\n",
       "      <td>...</td>\n",
       "      <td>...</td>\n",
       "    </tr>\n",
       "    <tr>\n",
       "      <th>13499995</th>\n",
       "      <td>2.072355</td>\n",
       "      <td>0.333399</td>\n",
       "      <td>-0.067610</td>\n",
       "      <td>-0.112597</td>\n",
       "      <td>-0.037047</td>\n",
       "      <td>0.650502</td>\n",
       "      <td>-0.913881</td>\n",
       "      <td>-0.002493</td>\n",
       "      <td>-0.506789</td>\n",
       "    </tr>\n",
       "    <tr>\n",
       "      <th>13499996</th>\n",
       "      <td>2.072355</td>\n",
       "      <td>0.333399</td>\n",
       "      <td>-0.067585</td>\n",
       "      <td>-0.112834</td>\n",
       "      <td>-0.055373</td>\n",
       "      <td>0.650502</td>\n",
       "      <td>-0.913881</td>\n",
       "      <td>-0.569210</td>\n",
       "      <td>-0.506789</td>\n",
       "    </tr>\n",
       "    <tr>\n",
       "      <th>13499997</th>\n",
       "      <td>2.072355</td>\n",
       "      <td>0.333399</td>\n",
       "      <td>-0.067562</td>\n",
       "      <td>-0.113069</td>\n",
       "      <td>-0.046210</td>\n",
       "      <td>0.650502</td>\n",
       "      <td>-0.913881</td>\n",
       "      <td>-0.002493</td>\n",
       "      <td>-0.506789</td>\n",
       "    </tr>\n",
       "    <tr>\n",
       "      <th>13499998</th>\n",
       "      <td>2.072355</td>\n",
       "      <td>0.333399</td>\n",
       "      <td>-0.067538</td>\n",
       "      <td>-0.113299</td>\n",
       "      <td>-0.046210</td>\n",
       "      <td>0.599930</td>\n",
       "      <td>-0.913881</td>\n",
       "      <td>-0.002493</td>\n",
       "      <td>-0.506789</td>\n",
       "    </tr>\n",
       "    <tr>\n",
       "      <th>13499999</th>\n",
       "      <td>2.072355</td>\n",
       "      <td>0.333399</td>\n",
       "      <td>-0.067514</td>\n",
       "      <td>-0.113523</td>\n",
       "      <td>-0.046210</td>\n",
       "      <td>0.599930</td>\n",
       "      <td>-0.913881</td>\n",
       "      <td>-0.002493</td>\n",
       "      <td>-0.506789</td>\n",
       "    </tr>\n",
       "  </tbody>\n",
       "</table>\n",
       "<p>13500000 rows × 9 columns</p>\n",
       "</div>"
      ],
      "text/plain": [
       "          VEHICLE_ID  VEHICLE_CLASS  LONGITUDE  LATITUDE   HEADING     SPEED  \\\n",
       "0          -1.564226       0.333399   0.044779 -0.017130 -1.338208  0.448211   \n",
       "1          -1.564226       0.333399   0.044807 -0.016916 -1.338208  0.599930   \n",
       "2          -1.564226       0.333399   0.044835 -0.016678 -1.365698  0.751648   \n",
       "3          -1.564226       0.333399   0.044863 -0.016415 -1.365698  0.802221   \n",
       "4          -1.564226       0.333399   0.044891 -0.016146 -1.365698  0.852794   \n",
       "...              ...            ...        ...       ...       ...       ...   \n",
       "13499995    2.072355       0.333399  -0.067610 -0.112597 -0.037047  0.650502   \n",
       "13499996    2.072355       0.333399  -0.067585 -0.112834 -0.055373  0.650502   \n",
       "13499997    2.072355       0.333399  -0.067562 -0.113069 -0.046210  0.650502   \n",
       "13499998    2.072355       0.333399  -0.067538 -0.113299 -0.046210  0.599930   \n",
       "13499999    2.072355       0.333399  -0.067514 -0.113523 -0.046210  0.599930   \n",
       "\n",
       "          BRAKE_STATUS   ACC_SEC  VEHICLE_TYPE  \n",
       "0            -0.913881  1.130941     -0.506789  \n",
       "1            -0.913881  1.130941     -0.506789  \n",
       "2            -0.913881  1.677418     -0.506789  \n",
       "3            -0.913881  0.564224     -0.506789  \n",
       "4            -0.913881  0.564224     -0.506789  \n",
       "...                ...       ...           ...  \n",
       "13499995     -0.913881 -0.002493     -0.506789  \n",
       "13499996     -0.913881 -0.569210     -0.506789  \n",
       "13499997     -0.913881 -0.002493     -0.506789  \n",
       "13499998     -0.913881 -0.002493     -0.506789  \n",
       "13499999     -0.913881 -0.002493     -0.506789  \n",
       "\n",
       "[13500000 rows x 9 columns]"
      ]
     },
     "execution_count": 15,
     "metadata": {},
     "output_type": "execute_result"
    }
   ],
   "source": [
    "# standardize\n",
    "from sklearn.preprocessing import StandardScaler\n",
    "\n",
    "scaler = StandardScaler()\n",
    "df11csv_scaled = scaler.fit_transform(df11csv)\n",
    "df11csv_scaled = pd.DataFrame(df11csv_scaled, columns=df11csv.columns)\n",
    "df11csv_scaled"
   ]
  },
  {
   "attachments": {},
   "cell_type": "markdown",
   "metadata": {},
   "source": [
    "# CSV 파일 Dataframe pickle로 저장"
   ]
  },
  {
   "cell_type": "code",
   "execution_count": 16,
   "metadata": {},
   "outputs": [],
   "source": [
    "with open(\"pickles/11월/df11_scaled.pkl\", \"wb\") as f:\n",
    "    pkl.dump(df11csv_scaled, f)"
   ]
  },
  {
   "cell_type": "code",
   "execution_count": 18,
   "metadata": {},
   "outputs": [],
   "source": [
    "df11csv_scaled = pd.read_pickle(\"pickles/11월/df11_scaled.pkl\") # load pickle"
   ]
  },
  {
   "cell_type": "code",
   "execution_count": 27,
   "metadata": {},
   "outputs": [],
   "source": [
    "# reshape 1350000 rows × 9 columns to 1350000 rows x 9 columns x 10, and changed to numpy array\n",
    "df11csv_scaled_npy = df11csv_scaled.values.reshape(df11csv_scaled.shape[0]//10, 10, 9)\n",
    "df11csv_scaled_npy = df11csv_scaled_npy.transpose(0, 2, 1)"
   ]
  },
  {
   "cell_type": "code",
   "execution_count": 28,
   "metadata": {},
   "outputs": [],
   "source": [
    "# save numpy array as npy file\n",
    "np.save(\"pickles/11월/X_11.npy\", df11csv_scaled_npy)"
   ]
  },
  {
   "cell_type": "code",
   "execution_count": 29,
   "metadata": {},
   "outputs": [
    {
     "name": "stdout",
     "output_type": "stream",
     "text": [
      "(13500000, 9)\n"
     ]
    },
    {
     "data": {
      "text/html": [
       "<div>\n",
       "<style scoped>\n",
       "    .dataframe tbody tr th:only-of-type {\n",
       "        vertical-align: middle;\n",
       "    }\n",
       "\n",
       "    .dataframe tbody tr th {\n",
       "        vertical-align: top;\n",
       "    }\n",
       "\n",
       "    .dataframe thead th {\n",
       "        text-align: right;\n",
       "    }\n",
       "</style>\n",
       "<table border=\"1\" class=\"dataframe\">\n",
       "  <thead>\n",
       "    <tr style=\"text-align: right;\">\n",
       "      <th></th>\n",
       "      <th>VEHICLE_ID</th>\n",
       "      <th>VEHICLE_CLASS</th>\n",
       "      <th>LONGITUDE</th>\n",
       "      <th>LATITUDE</th>\n",
       "      <th>HEADING</th>\n",
       "      <th>SPEED</th>\n",
       "      <th>BRAKE_STATUS</th>\n",
       "      <th>ACC_SEC</th>\n",
       "      <th>VEHICLE_TYPE</th>\n",
       "    </tr>\n",
       "  </thead>\n",
       "  <tbody>\n",
       "    <tr>\n",
       "      <th>0</th>\n",
       "      <td>-1.564226</td>\n",
       "      <td>0.333399</td>\n",
       "      <td>0.044779</td>\n",
       "      <td>-0.017130</td>\n",
       "      <td>-1.338208</td>\n",
       "      <td>0.448211</td>\n",
       "      <td>-0.913881</td>\n",
       "      <td>1.130941</td>\n",
       "      <td>-0.506789</td>\n",
       "    </tr>\n",
       "    <tr>\n",
       "      <th>1</th>\n",
       "      <td>-1.564226</td>\n",
       "      <td>0.333399</td>\n",
       "      <td>0.044807</td>\n",
       "      <td>-0.016916</td>\n",
       "      <td>-1.338208</td>\n",
       "      <td>0.599930</td>\n",
       "      <td>-0.913881</td>\n",
       "      <td>1.130941</td>\n",
       "      <td>-0.506789</td>\n",
       "    </tr>\n",
       "  </tbody>\n",
       "</table>\n",
       "</div>"
      ],
      "text/plain": [
       "   VEHICLE_ID  VEHICLE_CLASS  LONGITUDE  LATITUDE   HEADING     SPEED  \\\n",
       "0   -1.564226       0.333399   0.044779 -0.017130 -1.338208  0.448211   \n",
       "1   -1.564226       0.333399   0.044807 -0.016916 -1.338208  0.599930   \n",
       "\n",
       "   BRAKE_STATUS   ACC_SEC  VEHICLE_TYPE  \n",
       "0     -0.913881  1.130941     -0.506789  \n",
       "1     -0.913881  1.130941     -0.506789  "
      ]
     },
     "execution_count": 29,
     "metadata": {},
     "output_type": "execute_result"
    }
   ],
   "source": [
    "print(df11csv_scaled_npy.shape)\n",
    "df11csv_scaled_npy[:2]"
   ]
  },
  {
   "attachments": {},
   "cell_type": "markdown",
   "metadata": {},
   "source": [
    "----------------------"
   ]
  },
  {
   "attachments": {},
   "cell_type": "markdown",
   "metadata": {},
   "source": [
    "# JSON"
   ]
  },
  {
   "cell_type": "code",
   "execution_count": 31,
   "metadata": {},
   "outputs": [],
   "source": [
    "with open(\"pickles/11월/JSON11.pkl\", \"rb\") as f:\n",
    "    json_files11 = pkl.load(f)"
   ]
  },
  {
   "cell_type": "code",
   "execution_count": 32,
   "metadata": {},
   "outputs": [
    {
     "data": {
      "text/plain": [
       "{'Path': 'V_220901_C_A_FFE809A1_000107.csv',\n",
       " 'Annotation': {'Vehicle_ID': 'FFE809A1',\n",
       "  'Turn': 'False',\n",
       "  'Lane': 'False',\n",
       "  'Speed': 'False',\n",
       "  'Hazard': 'False'}}"
      ]
     },
     "execution_count": 32,
     "metadata": {},
     "output_type": "execute_result"
    }
   ],
   "source": [
    "# json info\n",
    "with open(json_files11[0], \"r\") as f:\n",
    "    json_sample = json.load(f)\n",
    "json_sample"
   ]
  },
  {
   "cell_type": "code",
   "execution_count": 59,
   "metadata": {},
   "outputs": [
    {
     "data": {
      "text/html": [
       "<div>\n",
       "<style scoped>\n",
       "    .dataframe tbody tr th:only-of-type {\n",
       "        vertical-align: middle;\n",
       "    }\n",
       "\n",
       "    .dataframe tbody tr th {\n",
       "        vertical-align: top;\n",
       "    }\n",
       "\n",
       "    .dataframe thead th {\n",
       "        text-align: right;\n",
       "    }\n",
       "</style>\n",
       "<table border=\"1\" class=\"dataframe\">\n",
       "  <thead>\n",
       "    <tr style=\"text-align: right;\">\n",
       "      <th></th>\n",
       "      <th>Path</th>\n",
       "      <th>Annotation</th>\n",
       "    </tr>\n",
       "  </thead>\n",
       "  <tbody>\n",
       "    <tr>\n",
       "      <th>Hazard</th>\n",
       "      <td>V_220801_C_A_FFE809B4_000075.csv</td>\n",
       "      <td>False</td>\n",
       "    </tr>\n",
       "    <tr>\n",
       "      <th>Lane</th>\n",
       "      <td>V_220801_C_A_FFE809B4_000075.csv</td>\n",
       "      <td>False</td>\n",
       "    </tr>\n",
       "    <tr>\n",
       "      <th>Speed</th>\n",
       "      <td>V_220801_C_A_FFE809B4_000075.csv</td>\n",
       "      <td>False</td>\n",
       "    </tr>\n",
       "    <tr>\n",
       "      <th>Turn</th>\n",
       "      <td>V_220801_C_A_FFE809B4_000075.csv</td>\n",
       "      <td>False</td>\n",
       "    </tr>\n",
       "    <tr>\n",
       "      <th>Vehicle_ID</th>\n",
       "      <td>V_220801_C_A_FFE809B4_000075.csv</td>\n",
       "      <td>FFE809B4</td>\n",
       "    </tr>\n",
       "  </tbody>\n",
       "</table>\n",
       "</div>"
      ],
      "text/plain": [
       "                                        Path Annotation\n",
       "Hazard      V_220801_C_A_FFE809B4_000075.csv      False\n",
       "Lane        V_220801_C_A_FFE809B4_000075.csv      False\n",
       "Speed       V_220801_C_A_FFE809B4_000075.csv      False\n",
       "Turn        V_220801_C_A_FFE809B4_000075.csv      False\n",
       "Vehicle_ID  V_220801_C_A_FFE809B4_000075.csv   FFE809B4"
      ]
     },
     "execution_count": 59,
     "metadata": {},
     "output_type": "execute_result"
    }
   ],
   "source": [
    "df11_json = pd.read_json(json_files11[0])\n",
    "# df8_json = df8_json['Annotation'][['Turn', 'Lane', 'Speed', 'Hazard']].to_frame().T\n",
    "# values = df8_json.values.tolist()[0]\n",
    "# values\n",
    "df11_json"
   ]
  },
  {
   "cell_type": "code",
   "execution_count": 35,
   "metadata": {},
   "outputs": [
    {
     "name": "stdout",
     "output_type": "stream",
     "text": [
      "['Turn', 'Lane', 'Speed', 'Hazard']\n"
     ]
    },
    {
     "name": "stderr",
     "output_type": "stream",
     "text": [
      "100%|██████████| 1350000/1350000 [28:06<00:00, 800.44it/s] \n"
     ]
    }
   ],
   "source": [
    "json11_list = []\n",
    "cols = ['Turn', 'Lane', 'Speed', 'Hazard']\n",
    "print(cols)\n",
    "\n",
    "df8json = pd.DataFrame(columns=cols)\n",
    "for i in trange(len(json_files11)):\n",
    "    with open(json_files11[i], \"r\") as f:\n",
    "        temp_json = json.load(f)\n",
    "        temp_json = [temp_json['Annotation'][key][:4] for key in temp_json['Annotation'].keys() if key in cols]\n",
    "        json11_list.append(temp_json)\n",
    "        \n",
    "# json8_list = [x[:4] for x in json8_list]\n",
    "json11_npy = np.array(json11_list)"
   ]
  },
  {
   "cell_type": "code",
   "execution_count": 37,
   "metadata": {},
   "outputs": [],
   "source": [
    "np.save(\"pickles/11월/y_11.npy\", json11_npy)"
   ]
  },
  {
   "attachments": {},
   "cell_type": "markdown",
   "metadata": {},
   "source": [
    "# Time series classification"
   ]
  },
  {
   "cell_type": "code",
   "execution_count": 5,
   "metadata": {},
   "outputs": [
    {
     "name": "stdout",
     "output_type": "stream",
     "text": [
      "turn: ['Fals' 'Left' 'Reve' 'Righ']\n",
      "lane: ['Fals']\n",
      "speed: ['Acc' 'Fals' 'Hbrk']\n",
      "hazard: ['Fals' 'True']\n",
      "turn: Counter({'Fals': 1274127, 'Righ': 38008, 'Left': 35376, 'Reve': 2489})\n",
      "lane: Counter({'Fals': 1350000})\n",
      "speed: Counter({'Fals': 1348923, 'Hbrk': 796, 'Acc': 281})\n",
      "hazard: Counter({'Fals': 1345730, 'True': 4270})\n"
     ]
    }
   ],
   "source": [
    "X = np.load(\"pickles/11월/X_11.npy\")\n",
    "y = np.load(\"pickles/11월/y_11.npy\")\n",
    "\n",
    "###\n",
    "from collections import Counter\n",
    "print(\"turn:\", np.unique(y[:, 0]))\n",
    "print(\"lane:\", np.unique(y[:, 1]))\n",
    "print(\"speed:\", np.unique(y[:, 2]))\n",
    "print(\"hazard:\", np.unique(y[:, 3]))\n",
    "print(\"turn:\", Counter(y[:, 0]))\n",
    "print(\"lane:\", Counter(y[:, 1]))\n",
    "print(\"speed:\", Counter(y[:, 2]))\n",
    "print(\"hazard:\", Counter(y[:, 3]))"
   ]
  },
  {
   "cell_type": "code",
   "execution_count": 12,
   "metadata": {},
   "outputs": [
    {
     "data": {
      "text/plain": [
       "array(['Fals', 'Fals', 'Fals', ..., 'Fals', 'Fals', 'Fals'], dtype='<U4')"
      ]
     },
     "execution_count": 12,
     "metadata": {},
     "output_type": "execute_result"
    }
   ],
   "source": [
    "get_splits()"
   ]
  },
  {
   "cell_type": "code",
   "execution_count": 13,
   "metadata": {},
   "outputs": [
    {
     "data": {
      "image/png": "[encoded data removed]",
      "text/plain": [
       "<Figure size 1600x50 with 1 Axes>"
      ]
     },
     "metadata": {},
     "output_type": "display_data"
    }
   ],
   "source": [
    "from tsai.all import *\n",
    "config = AttrDict(\n",
    "    batch_tfms = TSStandardize(by_sample=True),\n",
    "    arch_config = {},\n",
    "    architecture = LSTM, # LSTM, MLSTM_Plus\n",
    "    lr = 1e-3,\n",
    "    n_epochs = 200,\n",
    ")\n",
    "\n",
    "X = np.load(\"pickles/11월/X_11.npy\")\n",
    "y = np.load(\"pickles/11월/y_11.npy\")\n",
    "split_all = get_splits(y[:,0], shuffle=True, valid_size=0.2, test_size=0.2, random_state=42)\n",
    "split = split_all"
   ]
  },
  {
   "cell_type": "code",
   "execution_count": 14,
   "metadata": {},
   "outputs": [],
   "source": [
    "test_eq(X.shape, (X.shape[0], 9, 10))\n",
    "test_eq(y.shape, (X.shape[0], 4))"
   ]
  },
  {
   "cell_type": "code",
   "execution_count": 15,
   "metadata": {},
   "outputs": [],
   "source": [
    "tfms = [None, [MultiCategorize, OneHotEncode]]\n",
    "dsets = TSDatasets(X, y, tfms=tfms, splits=split)\n",
    "dls = TSDataLoaders.from_dsets(dsets.train, dsets.valid, bs=[64, 128], shuffle_train=False, batch_tfms=[TSStandardize()])\n",
    "\n",
    "model = InceptionTime(dls.vars, dls.c)\n",
    "learn = Learner(dls, model, loss_func=BCEWithLogitsLossFlat(), metrics=[accuracy_multi, precision_multi, F1_multi])\n",
    "learn.fit_one_cycle(10)\n",
    "learn.recorder.plot_loss()"
   ]
  },
  {
   "attachments": {},
   "cell_type": "markdown",
   "metadata": {},
   "source": [
    "-------------------"
   ]
  }
 ],
 "metadata": {
  "kernelspec": {
   "display_name": "pius310",
   "language": "python",
   "name": "python3"
  },
  "language_info": {
   "codemirror_mode": {
    "name": "ipython",
    "version": 3
   },
   "file_extension": ".py",
   "mimetype": "text/x-python",
   "name": "python",
   "nbconvert_exporter": "python",
   "pygments_lexer": "ipython3",
   "version": "3.10.9"
  },
  "orig_nbformat": 4,
  "vscode": {
   "interpreter": {
    "hash": "48ca3073c5549c1ccf4f4a58b2740315d5bce04ee37289cb933f5ff9b483ac6d"
   }
  }
 },
 "nbformat": 4,
 "nbformat_minor": 2
}
